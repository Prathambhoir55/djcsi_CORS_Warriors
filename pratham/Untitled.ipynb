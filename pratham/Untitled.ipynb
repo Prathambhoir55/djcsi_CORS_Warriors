{
 "cells": [
  {
   "cell_type": "code",
   "execution_count": 2,
   "id": "47a9173f",
   "metadata": {},
   "outputs": [],
   "source": [
    "import face_recognition\n",
    "import os"
   ]
  },
  {
   "cell_type": "code",
   "execution_count": 30,
   "id": "8a67d40c",
   "metadata": {},
   "outputs": [],
   "source": [
    "encodings_list = []\n",
    "known_path = 'known_faces'"
   ]
  },
  {
   "cell_type": "code",
   "execution_count": 31,
   "id": "54633dcd",
   "metadata": {},
   "outputs": [
    {
     "name": "stdout",
     "output_type": "stream",
     "text": [
      "jenil.png\n",
      "khushi.png\n",
      "pratham.png\n",
      "urmi.png\n",
      "urmi2.png\n",
      "yukti.png\n"
     ]
    }
   ],
   "source": [
    "for file in os.listdir(known_path):\n",
    "    known_image = face_recognition.load_image_file(known_path + '/' + file)\n",
    "    known_encoding = face_recognition.face_encodings(known_image, model=\"small\")[0]\n",
    "    print(file)\n",
    "    encodings_list.append(known_encoding)"
   ]
  },
  {
   "cell_type": "code",
   "execution_count": 32,
   "id": "1a9c4cbb",
   "metadata": {},
   "outputs": [],
   "source": [
    "unknown_image = face_recognition.load_image_file(\"test2.jpg\")\n",
    "\n",
    "unknown_encoding = face_recognition.face_encodings(unknown_image)[0]\n",
    "unknown_encoding"
   ]
  },
  {
   "cell_type": "code",
   "execution_count": 33,
   "id": "005df36b",
   "metadata": {},
   "outputs": [
    {
     "name": "stdout",
     "output_type": "stream",
     "text": [
      "[True, False, False, True, True, True]\n"
     ]
    }
   ],
   "source": [
    "results = face_recognition.compare_faces(encodings_list, unknown_encoding, tolerance=0.4)\n",
    "print(results)"
   ]
  },
  {
   "cell_type": "code",
   "execution_count": null,
   "id": "60f4f5d2",
   "metadata": {},
   "outputs": [],
   "source": []
  },
  {
   "cell_type": "code",
   "execution_count": null,
   "id": "b3d8ca2d",
   "metadata": {},
   "outputs": [],
   "source": []
  }
 ],
 "metadata": {
  "kernelspec": {
   "display_name": "Python 3.9.5 64-bit",
   "language": "python",
   "name": "python3"
  },
  "language_info": {
   "codemirror_mode": {
    "name": "ipython",
    "version": 3
   },
   "file_extension": ".py",
   "mimetype": "text/x-python",
   "name": "python",
   "nbconvert_exporter": "python",
   "pygments_lexer": "ipython3",
   "version": "3.9.5"
  },
  "vscode": {
   "interpreter": {
    "hash": "79d6288b417ab6e85c044710fc9c8f7639400be31104fd74f4dfd6dfe4fecc66"
   }
  }
 },
 "nbformat": 4,
 "nbformat_minor": 5
}
