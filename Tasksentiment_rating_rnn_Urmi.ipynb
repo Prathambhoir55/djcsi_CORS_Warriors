{
 "cells": [
  {
   "cell_type": "markdown",
   "metadata": {
    "colab_type": "text",
    "id": "view-in-github"
   },
   "source": [
    "<a href=\"https://colab.research.google.com/github/urmidedhia/Synapse-Learning-Period/blob/NLP-week-3/Tasksentiment_rating_rnn_Urmi.ipynb\" target=\"_parent\"><img src=\"https://colab.research.google.com/assets/colab-badge.svg\" alt=\"Open In Colab\"/></a>"
   ]
  },
  {
   "cell_type": "code",
   "execution_count": 2,
   "metadata": {
    "id": "qqkcLp4CmQzW"
   },
   "outputs": [],
   "source": [
    "import pandas as pd\n",
    "import numpy as np"
   ]
  },
  {
   "cell_type": "code",
   "execution_count": 3,
   "metadata": {
    "colab": {
     "base_uri": "https://localhost:8080/",
     "height": 423
    },
    "id": "wgydpm62zi04",
    "outputId": "bcddc3ee-0e21-4ef2-930d-934a9331f1ff"
   },
   "outputs": [],
   "source": [
    "'''Load the dataset into variable \"reviews\". You can truncate the dataset to keep a few hundred records if it's\n",
    "    taking too long to process/train. Keep in mind, bigger the dataset, higher the accuracy score!\n",
    "'''\n",
    "\n",
    "train = pd.read_csv('D:\\\\Coding\\\\Hackathons\\\\Codeshastra-checkmate\\\\train_set.csv')\n",
    "test = pd.read_csv('D:\\\\Coding\\\\Hackathons\\\\Codeshastra-checkmate\\\\test_set.csv')\n",
    "\n",
    "\n",
    "# reviews"
   ]
  },
  {
   "cell_type": "code",
   "execution_count": 4,
   "metadata": {},
   "outputs": [
    {
     "data": {
      "text/plain": [
       "array([\"Category 1: 'Risk' (Low performance, Low potential)\",\n",
       "       \"Category 2: 'Average performer' (Moderate performance, Low potential)\",\n",
       "       \"Category 3: 'Solid Performer' (High performance, Low potential)\",\n",
       "       \"Category 4: 'Inconsistent Player' (Low performance, Moderate potential)\",\n",
       "       \"Category 5: 'Core Player' (Moderate performance, Moderate potential)\",\n",
       "       \"Category 6: 'High Performer' (High performance, Moderate potential)\",\n",
       "       \"Category 7: 'Potential Gem' (Low performance, High potential)\",\n",
       "       \"Category 8: 'High Potential' (Moderate performance, High potential)\",\n",
       "       \"Category 9: 'Star' (High performance, High potential)\"],\n",
       "      dtype=object)"
      ]
     },
     "execution_count": 4,
     "metadata": {},
     "output_type": "execute_result"
    }
   ],
   "source": [
    "train.nine_box_category.unique()"
   ]
  },
  {
   "cell_type": "code",
   "execution_count": 5,
   "metadata": {},
   "outputs": [],
   "source": [
    "def encode_rating(df):\n",
    "    for i in range(len(df)):\n",
    "        df.iloc[i, 2] = df.iloc[i, 2][9]\n",
    "    return df"
   ]
  },
  {
   "cell_type": "code",
   "execution_count": 6,
   "metadata": {},
   "outputs": [],
   "source": [
    "train_df = encode_rating(train)\n",
    "train_df = train_df.drop(['id','person_name','adjusted','reviewed'],axis=1)"
   ]
  },
  {
   "cell_type": "code",
   "execution_count": 7,
   "metadata": {},
   "outputs": [
    {
     "data": {
      "text/plain": [
       "Index(['id', 'person_name', 'nine_box_category', 'feedback', 'updated',\n",
       "       'reviewed', 'label', 'performance_class', 'potential_class',\n",
       "       'feedback_clean'],\n",
       "      dtype='object')"
      ]
     },
     "execution_count": 7,
     "metadata": {},
     "output_type": "execute_result"
    }
   ],
   "source": [
    "test.columns"
   ]
  },
  {
   "cell_type": "code",
   "execution_count": 8,
   "metadata": {},
   "outputs": [],
   "source": [
    "test_df = encode_rating(test)\n",
    "test_df = test_df.drop(['id','person_name','updated','reviewed','label', 'performance_class', 'potential_class',\n",
    "       'feedback_clean'],axis=1)"
   ]
  },
  {
   "cell_type": "code",
   "execution_count": 9,
   "metadata": {},
   "outputs": [
    {
     "data": {
      "text/plain": [
       "(225, 2)"
      ]
     },
     "execution_count": 9,
     "metadata": {},
     "output_type": "execute_result"
    }
   ],
   "source": [
    "test_df.shape"
   ]
  },
  {
   "cell_type": "code",
   "execution_count": 10,
   "metadata": {},
   "outputs": [],
   "source": [
    "test_df = test_df.sample(frac=1).reset_index(drop=True)"
   ]
  },
  {
   "cell_type": "code",
   "execution_count": 11,
   "metadata": {},
   "outputs": [],
   "source": [
    "train_df = train_df.sample(frac=1).reset_index(drop=True)"
   ]
  },
  {
   "cell_type": "code",
   "execution_count": 12,
   "metadata": {
    "id": "b9msiWLKzi05"
   },
   "outputs": [],
   "source": [
    "#Split the data into train and split\n",
    "# X = train_df[['feedback']] + test_df[['feedback']]\n",
    "# y = train_df[['nine_box_category']] + test_df[['nine_box_category']]\n",
    "# from sklearn.model_selection import train_test_split\n",
    "train_reviews, test_reviews, train_sentiment, test_sentiment = train_df[['feedback']],test_df[['feedback']],train_df[['nine_box_category']],test_df[['nine_box_category']]\n",
    "\n",
    "train_sentiment = pd.get_dummies(train_sentiment['nine_box_category']).values\n",
    "test_sentiment = pd.get_dummies(test_sentiment['nine_box_category']).values"
   ]
  },
  {
   "cell_type": "code",
   "execution_count": 13,
   "metadata": {
    "colab": {
     "base_uri": "https://localhost:8080/",
     "height": 423
    },
    "id": "6wZfLm0qzi05",
    "outputId": "b95cb078-ee23-4fc5-f533-66b6a70f15b3"
   },
   "outputs": [],
   "source": [
    "# # convert the above train test datasets into a pandas dataframe. You shoud have 4 dataframes.\n",
    "# # Name them train_reviews, test_reviews, train_sentiment, test_sentiment.\n",
    "# # In train_sentiment and test_sentiment, convert \"positive\" to 1 and \"negative\" to 0\n",
    "# for df in [train_sentiment, test_sentiment]:\n",
    "#   df['sentiment'] = df['sentiment'].replace(['positive'],1)\n",
    "#   df['sentiment'] = df['sentiment'].replace(['negative'],0)\n",
    "\n",
    "# test_sentiment"
   ]
  },
  {
   "cell_type": "code",
   "execution_count": 14,
   "metadata": {
    "colab": {
     "base_uri": "https://localhost:8080/",
     "height": 206
    },
    "id": "_h7WaDXBzi06",
    "outputId": "12d864db-c11c-4c86-ae07-5ecc4ff7827d"
   },
   "outputs": [
    {
     "name": "stdout",
     "output_type": "stream",
     "text": [
      "(878, 1) (225, 1)\n",
      "(878, 9) (225, 9)\n"
     ]
    }
   ],
   "source": [
    "print(train_reviews.shape,test_reviews.shape)\n",
    "print(train_sentiment.shape,test_sentiment.shape)"
   ]
  },
  {
   "cell_type": "code",
   "execution_count": 15,
   "metadata": {},
   "outputs": [
    {
     "data": {
      "text/html": [
       "<div>\n",
       "<style scoped>\n",
       "    .dataframe tbody tr th:only-of-type {\n",
       "        vertical-align: middle;\n",
       "    }\n",
       "\n",
       "    .dataframe tbody tr th {\n",
       "        vertical-align: top;\n",
       "    }\n",
       "\n",
       "    .dataframe thead th {\n",
       "        text-align: right;\n",
       "    }\n",
       "</style>\n",
       "<table border=\"1\" class=\"dataframe\">\n",
       "  <thead>\n",
       "    <tr style=\"text-align: right;\">\n",
       "      <th></th>\n",
       "      <th>feedback</th>\n",
       "    </tr>\n",
       "  </thead>\n",
       "  <tbody>\n",
       "    <tr>\n",
       "      <th>0</th>\n",
       "      <td>John has not progressed in his position. He is...</td>\n",
       "    </tr>\n",
       "    <tr>\n",
       "      <th>1</th>\n",
       "      <td>I'm always impressed by Braydon, since he perf...</td>\n",
       "    </tr>\n",
       "    <tr>\n",
       "      <th>2</th>\n",
       "      <td>Celine is one of the beat employees we have to...</td>\n",
       "    </tr>\n",
       "    <tr>\n",
       "      <th>3</th>\n",
       "      <td>Eloise Foster is a follower rather than a lead...</td>\n",
       "    </tr>\n",
       "    <tr>\n",
       "      <th>4</th>\n",
       "      <td>Daniel Hill has come far and has it in him to ...</td>\n",
       "    </tr>\n",
       "    <tr>\n",
       "      <th>...</th>\n",
       "      <td>...</td>\n",
       "    </tr>\n",
       "    <tr>\n",
       "      <th>873</th>\n",
       "      <td>Finley Grey completes tasks on time and follow...</td>\n",
       "    </tr>\n",
       "    <tr>\n",
       "      <th>874</th>\n",
       "      <td>Andy was a very inconsistent player, he would ...</td>\n",
       "    </tr>\n",
       "    <tr>\n",
       "      <th>875</th>\n",
       "      <td>Jude May is the person who needs to concentrat...</td>\n",
       "    </tr>\n",
       "    <tr>\n",
       "      <th>876</th>\n",
       "      <td>Madison is a very strong worker that consisten...</td>\n",
       "    </tr>\n",
       "    <tr>\n",
       "      <th>877</th>\n",
       "      <td>Bobby's work is always flawless and I can trus...</td>\n",
       "    </tr>\n",
       "  </tbody>\n",
       "</table>\n",
       "<p>878 rows × 1 columns</p>\n",
       "</div>"
      ],
      "text/plain": [
       "                                              feedback\n",
       "0    John has not progressed in his position. He is...\n",
       "1    I'm always impressed by Braydon, since he perf...\n",
       "2    Celine is one of the beat employees we have to...\n",
       "3    Eloise Foster is a follower rather than a lead...\n",
       "4    Daniel Hill has come far and has it in him to ...\n",
       "..                                                 ...\n",
       "873  Finley Grey completes tasks on time and follow...\n",
       "874  Andy was a very inconsistent player, he would ...\n",
       "875  Jude May is the person who needs to concentrat...\n",
       "876  Madison is a very strong worker that consisten...\n",
       "877  Bobby's work is always flawless and I can trus...\n",
       "\n",
       "[878 rows x 1 columns]"
      ]
     },
     "execution_count": 15,
     "metadata": {},
     "output_type": "execute_result"
    }
   ],
   "source": [
    "train_reviews\n"
   ]
  },
  {
   "cell_type": "code",
   "execution_count": 16,
   "metadata": {
    "colab": {
     "base_uri": "https://localhost:8080/",
     "height": 363
    },
    "id": "yMhMj8Oczi08",
    "outputId": "c81121b6-691b-464b-b155-976df4e27133"
   },
   "outputs": [
    {
     "data": {
      "text/html": [
       "<div>\n",
       "<style scoped>\n",
       "    .dataframe tbody tr th:only-of-type {\n",
       "        vertical-align: middle;\n",
       "    }\n",
       "\n",
       "    .dataframe tbody tr th {\n",
       "        vertical-align: top;\n",
       "    }\n",
       "\n",
       "    .dataframe thead th {\n",
       "        text-align: right;\n",
       "    }\n",
       "</style>\n",
       "<table border=\"1\" class=\"dataframe\">\n",
       "  <thead>\n",
       "    <tr style=\"text-align: right;\">\n",
       "      <th></th>\n",
       "      <th>feedback</th>\n",
       "      <th>Tokenized_Review</th>\n",
       "    </tr>\n",
       "  </thead>\n",
       "  <tbody>\n",
       "    <tr>\n",
       "      <th>0</th>\n",
       "      <td>John has not progressed in his position. He is...</td>\n",
       "      <td>[john, has, not, progressed, in, his, position...</td>\n",
       "    </tr>\n",
       "    <tr>\n",
       "      <th>1</th>\n",
       "      <td>I'm always impressed by Braydon, since he perf...</td>\n",
       "      <td>[i, 'm, always, impressed, by, braydon, ,, sin...</td>\n",
       "    </tr>\n",
       "    <tr>\n",
       "      <th>2</th>\n",
       "      <td>Celine is one of the beat employees we have to...</td>\n",
       "      <td>[celine, is, one, of, the, beat, employees, we...</td>\n",
       "    </tr>\n",
       "    <tr>\n",
       "      <th>3</th>\n",
       "      <td>Eloise Foster is a follower rather than a lead...</td>\n",
       "      <td>[eloise, foster, is, a, follower, rather, than...</td>\n",
       "    </tr>\n",
       "    <tr>\n",
       "      <th>4</th>\n",
       "      <td>Daniel Hill has come far and has it in him to ...</td>\n",
       "      <td>[daniel, hill, has, come, far, and, has, it, i...</td>\n",
       "    </tr>\n",
       "    <tr>\n",
       "      <th>5</th>\n",
       "      <td>Kyle is working toward gaining proficiency. De...</td>\n",
       "      <td>[kyle, is, working, toward, gaining, proficien...</td>\n",
       "    </tr>\n",
       "    <tr>\n",
       "      <th>6</th>\n",
       "      <td>Theodor Peters is an excellent player with a h...</td>\n",
       "      <td>[theodor, peters, is, an, excellent, player, w...</td>\n",
       "    </tr>\n",
       "    <tr>\n",
       "      <th>7</th>\n",
       "      <td>Requires additional scope[e. Willingness to se...</td>\n",
       "      <td>[requires, additional, scope[e, ., willingness...</td>\n",
       "    </tr>\n",
       "    <tr>\n",
       "      <th>8</th>\n",
       "      <td>Alex is a stable and consistent working on the...</td>\n",
       "      <td>[alex, is, a, stable, and, consistent, working...</td>\n",
       "    </tr>\n",
       "    <tr>\n",
       "      <th>9</th>\n",
       "      <td>she tries hard but she is in the wrong positio...</td>\n",
       "      <td>[she, tries, hard, but, she, is, in, the, wron...</td>\n",
       "    </tr>\n",
       "  </tbody>\n",
       "</table>\n",
       "</div>"
      ],
      "text/plain": [
       "                                            feedback   \n",
       "0  John has not progressed in his position. He is...  \\\n",
       "1  I'm always impressed by Braydon, since he perf...   \n",
       "2  Celine is one of the beat employees we have to...   \n",
       "3  Eloise Foster is a follower rather than a lead...   \n",
       "4  Daniel Hill has come far and has it in him to ...   \n",
       "5  Kyle is working toward gaining proficiency. De...   \n",
       "6  Theodor Peters is an excellent player with a h...   \n",
       "7  Requires additional scope[e. Willingness to se...   \n",
       "8  Alex is a stable and consistent working on the...   \n",
       "9  she tries hard but she is in the wrong positio...   \n",
       "\n",
       "                                    Tokenized_Review  \n",
       "0  [john, has, not, progressed, in, his, position...  \n",
       "1  [i, 'm, always, impressed, by, braydon, ,, sin...  \n",
       "2  [celine, is, one, of, the, beat, employees, we...  \n",
       "3  [eloise, foster, is, a, follower, rather, than...  \n",
       "4  [daniel, hill, has, come, far, and, has, it, i...  \n",
       "5  [kyle, is, working, toward, gaining, proficien...  \n",
       "6  [theodor, peters, is, an, excellent, player, w...  \n",
       "7  [requires, additional, scope[e, ., willingness...  \n",
       "8  [alex, is, a, stable, and, consistent, working...  \n",
       "9  [she, tries, hard, but, she, is, in, the, wron...  "
      ]
     },
     "execution_count": 16,
     "metadata": {},
     "output_type": "execute_result"
    }
   ],
   "source": [
    "'''Lowercase and tokenise all the reviews in train_reviews using spacy'''\n",
    "\n",
    "import spacy\n",
    "encoder = spacy.load('en_core_web_sm')\n",
    "\n",
    "def text_to_tokens(text_seqs):\n",
    "    tokenized = [[word.lower_ for word in encoder(text)] for text in text_seqs]\n",
    "    return tokenized\n",
    "    #complete this function that lowers and tokenizes the reviews\n",
    "\n",
    "\n",
    "train_reviews['Tokenized_Review'] = text_to_tokens(train_reviews['feedback'])\n",
    "train_reviews[['feedback','Tokenized_Review']][:10]"
   ]
  },
  {
   "cell_type": "code",
   "execution_count": 17,
   "metadata": {},
   "outputs": [
    {
     "name": "stderr",
     "output_type": "stream",
     "text": [
      "[nltk_data] Downloading package stopwords to\n",
      "[nltk_data]     C:\\Users\\Urmi\\AppData\\Roaming\\nltk_data...\n",
      "[nltk_data]   Package stopwords is already up-to-date!\n"
     ]
    }
   ],
   "source": [
    "import nltk\n",
    "nltk.download('stopwords')\n",
    "from nltk.corpus import stopwords\n",
    "stop = stopwords.words('english')\n",
    "\n",
    "# Exclude stopwords with Python's list comprehension and pandas.DataFrame.apply.\n",
    "train_reviews['Tokenized_Review'] = train_reviews['Tokenized_Review'].apply(lambda x: [word for word in x if word not in (stop)])"
   ]
  },
  {
   "cell_type": "code",
   "execution_count": 18,
   "metadata": {},
   "outputs": [
    {
     "data": {
      "text/html": [
       "<div>\n",
       "<style scoped>\n",
       "    .dataframe tbody tr th:only-of-type {\n",
       "        vertical-align: middle;\n",
       "    }\n",
       "\n",
       "    .dataframe tbody tr th {\n",
       "        vertical-align: top;\n",
       "    }\n",
       "\n",
       "    .dataframe thead th {\n",
       "        text-align: right;\n",
       "    }\n",
       "</style>\n",
       "<table border=\"1\" class=\"dataframe\">\n",
       "  <thead>\n",
       "    <tr style=\"text-align: right;\">\n",
       "      <th></th>\n",
       "      <th>feedback</th>\n",
       "      <th>Tokenized_Review</th>\n",
       "    </tr>\n",
       "  </thead>\n",
       "  <tbody>\n",
       "    <tr>\n",
       "      <th>0</th>\n",
       "      <td>John has not progressed in his position. He is...</td>\n",
       "      <td>[john, progressed, position, ., continuously, ...</td>\n",
       "    </tr>\n",
       "    <tr>\n",
       "      <th>1</th>\n",
       "      <td>I'm always impressed by Braydon, since he perf...</td>\n",
       "      <td>['m, always, impressed, braydon, ,, since, per...</td>\n",
       "    </tr>\n",
       "    <tr>\n",
       "      <th>2</th>\n",
       "      <td>Celine is one of the beat employees we have to...</td>\n",
       "      <td>[celine, one, beat, employees, date, ., comes,...</td>\n",
       "    </tr>\n",
       "    <tr>\n",
       "      <th>3</th>\n",
       "      <td>Eloise Foster is a follower rather than a lead...</td>\n",
       "      <td>[eloise, foster, follower, rather, leader, ., ...</td>\n",
       "    </tr>\n",
       "    <tr>\n",
       "      <th>4</th>\n",
       "      <td>Daniel Hill has come far and has it in him to ...</td>\n",
       "      <td>[daniel, hill, come, far, real, star, player, ...</td>\n",
       "    </tr>\n",
       "    <tr>\n",
       "      <th>...</th>\n",
       "      <td>...</td>\n",
       "      <td>...</td>\n",
       "    </tr>\n",
       "    <tr>\n",
       "      <th>873</th>\n",
       "      <td>Finley Grey completes tasks on time and follow...</td>\n",
       "      <td>[finley, grey, completes, tasks, time, follows...</td>\n",
       "    </tr>\n",
       "    <tr>\n",
       "      <th>874</th>\n",
       "      <td>Andy was a very inconsistent player, he would ...</td>\n",
       "      <td>[andy, inconsistent, player, ,, would, day, ev...</td>\n",
       "    </tr>\n",
       "    <tr>\n",
       "      <th>875</th>\n",
       "      <td>Jude May is the person who needs to concentrat...</td>\n",
       "      <td>[jude, may, person, needs, concentrate, work, ...</td>\n",
       "    </tr>\n",
       "    <tr>\n",
       "      <th>876</th>\n",
       "      <td>Madison is a very strong worker that consisten...</td>\n",
       "      <td>[madison, strong, worker, consistently, produc...</td>\n",
       "    </tr>\n",
       "    <tr>\n",
       "      <th>877</th>\n",
       "      <td>Bobby's work is always flawless and I can trus...</td>\n",
       "      <td>[bobby, 's, work, always, flawless, trust, 's,...</td>\n",
       "    </tr>\n",
       "  </tbody>\n",
       "</table>\n",
       "<p>878 rows × 2 columns</p>\n",
       "</div>"
      ],
      "text/plain": [
       "                                              feedback   \n",
       "0    John has not progressed in his position. He is...  \\\n",
       "1    I'm always impressed by Braydon, since he perf...   \n",
       "2    Celine is one of the beat employees we have to...   \n",
       "3    Eloise Foster is a follower rather than a lead...   \n",
       "4    Daniel Hill has come far and has it in him to ...   \n",
       "..                                                 ...   \n",
       "873  Finley Grey completes tasks on time and follow...   \n",
       "874  Andy was a very inconsistent player, he would ...   \n",
       "875  Jude May is the person who needs to concentrat...   \n",
       "876  Madison is a very strong worker that consisten...   \n",
       "877  Bobby's work is always flawless and I can trus...   \n",
       "\n",
       "                                      Tokenized_Review  \n",
       "0    [john, progressed, position, ., continuously, ...  \n",
       "1    ['m, always, impressed, braydon, ,, since, per...  \n",
       "2    [celine, one, beat, employees, date, ., comes,...  \n",
       "3    [eloise, foster, follower, rather, leader, ., ...  \n",
       "4    [daniel, hill, come, far, real, star, player, ...  \n",
       "..                                                 ...  \n",
       "873  [finley, grey, completes, tasks, time, follows...  \n",
       "874  [andy, inconsistent, player, ,, would, day, ev...  \n",
       "875  [jude, may, person, needs, concentrate, work, ...  \n",
       "876  [madison, strong, worker, consistently, produc...  \n",
       "877  [bobby, 's, work, always, flawless, trust, 's,...  \n",
       "\n",
       "[878 rows x 2 columns]"
      ]
     },
     "execution_count": 18,
     "metadata": {},
     "output_type": "execute_result"
    }
   ],
   "source": [
    "train_reviews"
   ]
  },
  {
   "cell_type": "code",
   "execution_count": 19,
   "metadata": {
    "colab": {
     "base_uri": "https://localhost:8080/"
    },
    "id": "TcxRMGGzzi09",
    "outputId": "11841b55-e5f3-4528-cdd6-2f01e64ad02b"
   },
   "outputs": [
    {
     "name": "stdout",
     "output_type": "stream",
     "text": [
      "{'john': 2, 'progressed': 3, 'position': 4, '.': 5, 'continuously': 6, 'late': 7, ',': 8, 'leaves': 9, 'early': 10, 'takes': 11, 'many': 12, 'breaks': 13, 'throughout': 14, 'day': 15, 'calls': 16, 'least': 17, 'every': 18, 'week': 19, \"'s\": 20, 'always': 21, 'fridays': 22, 'performance': 23, 'significantly': 24, 'declined': 25, 'suggestion': 26, 'suitable': 27, \"'m\": 28, 'impressed': 29, 'braydon': 30, 'since': 31, 'performs': 32, 'like': 33, 'ten': 34, 'years': 35, 'experience': 36, 'behind': 37, 'even': 38, 'though': 39, 'got': 40, 'five': 41, 'real': 42, 'eye': 43, 'clients': 44, 'want': 45, 'see': 46, 'reports': 47, 'great': 48, 'sense': 49, 'intuition': 50, 'next': 51, 'steps': 52, 'client': 53, 'project': 54, 'going': 55, 'much': 56, 'star': 57, 'however': 58, \"n't\": 59, 'shown': 60, 'interest': 61, 'mentoring': 62, 'younger': 63, 'colleagues': 64, 'team': 65, 'player': 66, 'thus': 67, 'believe': 68, 'room': 69, 'promotion': 70, 'firm': 71, 'celine': 72, 'one': 73, 'beat': 74, 'employees': 75, 'date': 76, 'comes': 77, 'positive': 78, 'attitude': 79, 'filters': 80, 'work': 81, 'time': 82, 'issue': 83, 'quick': 84, 'accept': 85, 'criticism': 86, 'improve': 87, 'particular': 88, 'area': 89, 'stays': 90, 'hours': 91, 'ensure': 92, 'everything': 93, 'complete': 94, 'know': 95, 'bright': 96, 'future': 97, 'ahead': 98, 'eloise': 99, 'foster': 100, 'follower': 101, 'rather': 102, 'leader': 103, 'tasks': 104, 'timely': 105, 'manner': 106, 'without': 107, 'inventive': 108, '\\n': 109, 'settings': 110, 'gladly': 111, 'lions': 112, 'share': 113, 'contribute': 114, 'ideas': 115, 'let': 116, 'someone': 117, 'else': 118, 'take': 119, 'lead': 120, 'daniel': 121, 'hill': 122, 'come': 123, 'far': 124, 'enthusiasm': 125, 'practical': 126, 'solutions': 127, 'oftentimes': 128, 'put': 129, 'get': 130, 'hands': 131, 'dirt': 132, 'rest': 133, 'hopefully': 134, 'pick': 135, 'behaviors': 136, 'around': 137, 'kyle': 138, 'working': 139, 'toward': 140, 'gaining': 141, 'proficiency': 142, 'demonstrates': 143, 'satisfactory': 144, 'inconsistently': 145, 'achieves': 146, 'goals': 147, 'acquirring': 148, 'necessary': 149, 'knowledge': 150, 'skills': 151, 'theodor': 152, 'peters': 153, 'excellent': 154, 'high': 155, '-': 156, 'rate': 157, 'potential': 158, 'ceiling': 159, 'man': 160, 'played': 161, 'single': 162, 'minute': 163, 'trying': 164, 'make': 165, 'basketball': 166, 'guarantee': 167, 'starter': 168, 'shooting': 169, 'elite': 170, 'level': 171, 'best': 172, 'defenders': 173, 'state': 174, 'school': 175, 'record': 176, 'involving': 177, 'teammates': 178, 'action': 179, 'tend': 180, 'turn': 181, 'ball': 182, 'frequently': 183, 'solved': 184, 'practice': 185, 'tactics': 186, 'game': 187, 'might': 188, 'first': 189, 'go': 190, 'straight': 191, 'nba': 192, 'current': 193, 'skill': 194, 'set': 195, 'better': 196, '!': 197, 'requires': 198, 'additional': 199, 'scope[e': 200, 'willingness': 201, 'self': 202, 'start': 203, 'outperforms': 204, 'task': 205, 'motivated': 206, 'exceed': 207, 'alex': 208, 'stable': 209, 'consistent': 210, ' ': 211, 'required': 212, 'job': 213, 'minimal': 214, 'effort': 215, 'solid': 216, 'understand': 217, 'communicates': 218, 'well': 219, 'others': 220, 'adequate': 221, 'amount': 222, 'would': 223, 'encourage': 224, 'learn': 225, 'new': 226, 'assist': 227, 'career': 228, 'development': 229, 'tries': 230, 'hard': 231, 'wrong': 232, 'needs': 233, 'less': 234, 'physical': 235, 'maybe': 236, 'change': 237, 'help': 238, 'darius': 239, 'good': 240, 'example': 241, 'trainee': 242, 'showed': 243, 'lot': 244, 'field': 245, 'respectful': 246, 'cooperative': 247, 'training': 248, 'strive': 249, 'areas': 250, 'addition': 251, 'jamie': 252, 'delivered': 253, 'fantastic': 254, 'results': 255, 'submits': 256, 'regularly': 257, 'continues': 258, 'seek': 259, 'feedback': 260, 'continue': 261, 'monitored': 262, 'determine': 263, 'whether': 264, 'fit': 265, 'management': 266, 'leadership': 267, 'difficult': 268, 'rapport': 269, 'led': 270, 'projects': 271, 'success': 272, 'ava': 273, 'right': 274, 'middle': 275, 'wise': 276, 'struggle': 277, 'link': 278, 'duties': 279, 'larger': 280, 'aims': 281, 'business': 282, 'could': 283, 'become': 284, 'members': 285, 'definitely': 286, 'watch': 287, 'bobby': 288, 'company': 289, 'average': 290, 'decent': 291, 'aptitude': 292, 'also': 293, 'capacity': 294, 'growth': 295, 'somewhat': 296, 'limited': 297, 'overall': 298, 'pack': 299, 'employee': 300, 'blowing': 301, 'anyone': 302, 'away': 303, 'poor': 304, 'value': 305, 'judgments': 306, '\\r': 307, 'quality': 308, 'indication': 309, 'creativity': 310, 'risk': 311, 'failure': 312, 'due': 313, 'potentialities': 314, 'lowe': 315, 'worked': 316, 'baseball': 317, 'manager': 318, 'coach': 319, 'scout': 320, 'think': 321, 'succesfull': 322, 'person': 323, 'life': 324, '  ': 325, 'earned': 326, 'lots': 327, 'awards': 328, 'edward': 329, 'near': 330, 'top': 331, 'performers': 332, 'really': 333, 'refined': 334, 'ability': 335, 'expected': 336, 'seems': 337, 'straying': 338, 'scope': 339, 'baily': 340, 'ok': 341, 'worker': 342, 'currently': 343, 'respond': 344, 'improvement': 345, 'along': 346, 'still': 347, 'consistently': 348, 'produces': 349, 'acceptable': 350, 'meet': 351, 'deadlines': 352, 'performer': 353, 'expect': 354, 'beyond': 355, 'amaya': 356, 'generally': 357, 'relied': 358, 'upon': 359, 'submit': 360, 'product': 361, 'reasonable': 362, 'mistakes': 363, 'proofreading': 364, 'fairly': 365, 'spot': 366, 'caught': 367, 'typos': 368, 'spelling': 369, 'errors': 370, \"'ve\": 371, 'pushed': 372, 'challenging': 373, 'research': 374, 'assignments': 375, 'refused': 376, 'unfortunately': 377, 'met': 378, 'maximum': 379, 'already': 380, 'gunnar': 381, 'performing': 382, 'individual': 383, 'contributes': 384, 'meaningful': 385, 'thought': 386, 'provide': 387, 'oriented': 388, 'invaluable': 389, 'asset': 390, 'prove': 391, 'within': 392, 'shows': 393, 'promise': 394, 'ready': 395, 'willing': 396, 'sometimes': 397, 'balancing': 398, 'committed': 399, 'plate': 400, 'moving': 401, 'forward': 402, 'little': 403, 'judicious': 404, 'covers': 405, 'bases': 406, 'analysis': 407, 'grow': 408, \"'d\": 409, 'sophisticated': 410, 'arguments': 411, 'confident': 412, \"'ll\": 413, 'able': 414, 'based': 415, 'adaptation': 416, 'past': 417, 'given': 418, 'disappointed': 419, 'quarter': 420, 'shoddy': 421, 'asked': 422, 'report': 423, 'gave': 424, 'lenient': 425, 'two': 426, 'deadline': 427, 'blew': 428, 'informing': 429, 'finally': 430, 'turned': 431, 'three': 432, 'weeks': 433, 'riddled': 434, 'seem': 435, 'interested': 436, 'comments': 437, 'made': 438, 'benefit': 439, 'supposed': 440, 'look': 441, 'peter': 442, 'allen': 443, 'pretty': 444, 'manages': 445, 'managing': 446, 'people': 447, 'whatever': 448, 'benjamin': 449, 'roberts': 450, 'coworker': 451, 'done': 452, 'pleasant': 453, 'punctual': 454, 'rushing': 455, 'finish': 456, 'clocking': 457, 'waste': 458, 'perfect': 459, 'jessica': 460, 'efficient': 461, 'accomplishing': 462, 'although': 463, 'initiative': 464, 'helpful': 465, 'pitch': 466, 'exceeds': 467, 'collaborating': 468, 'peers': 469, 'sticks': 470, 'timelines': 471, 'incredibly': 472, 'dedicated': 473, 'call': 474, 'last': 475, 'requests': 476, 'midnight': 477, 'pull': 478, 'nighter': 479, 'ethic': 480, 'among': 481, 'seen': 482, 'bar': 483, 'none': 484, 'weeds': 485, 'big': 486, 'picture': 487, 'capability': 488, 'promoted': 489, 'director': 490, 'advancing': 491, 'isaac': 492, 'month': 493, 'works': 494, 'diligently': 495, 'ask': 496, 'questions': 497, 'often': 498, 'completing': 499, 'sure': 500, 'track': 501, 'avoid': 502, 'revisit': 503, 'redo': 504, 'long': 505, 'run': 506, 'feel': 507, 'stronger': 508, 'member': 509, 'perhaps': 510, 'move': 511, 'kayden': 512, 'struggles': 513, 'easily': 514, 'frustrated': 515, 'tends': 516, 'give': 517, 'aloof': 518, 'unhappy': 519, 'alina': 520, 'reliable': 521, 'analysts': 522, 'appreciate': 523, 'volunteers': 524, 'assignment': 525, 'available': 526, 'seeing': 527, 'drafts': 528, 'suffer': 529, 'enough': 530, 'commit': 531, 'volunteered': 532, 'end': 533, 'needing': 534, 'correct': 535, 'minor': 536, 'issues': 537, 'grammar': 538, 'producing': 539, 'scales': 540, 'back': 541, 'number': 542, 'unnecessary': 543, 'commitments': 544, 'makes': 545, 'bites': 546, 'reasonably': 547, 'chew': 548, 'problems': 549, 'becoming': 550, 'department': 551, 'turns': 552, 'motivation': 553, 'way': 554, 'expectations': 555, 'possibly': 556, 'promising': 557, 'bone': 558, 'span': 559, 'thinking': 560, 'katherine': 561, 'terry': 562, 'present': 563, 'hope': 564, 'sake': 565, 'jay': 566, 'subpar': 567, 'recheck': 568, 'mistake': 569, 'doubles': 570, 'load': 571, 'knows': 572, 'stuck': 573, 'usually': 574, 'asks': 575, 'tell': 576, 'listens': 577, 'wants': 578, 'exactly': 579, 'scenario': 580, 'apply': 581, 'learned': 582, 'scratch': 583, 'lightly': 584, 'different': 585, 'blake': 586, 'contributing': 587, 'greatly': 588, 'competency': 589, 'aspirations': 590, 'show': 591, 'drive': 592, 'ranks': 593, 'received': 594, 'reasons': 595, 'running': 596, 'strategies': 597, 'use': 598, 'taking': 599, 'revelation': 600, 'intent': 601, 'needed': 602, 'succeed': 603, 'makings': 604, 'rewarded': 605, 'develop': 606, 'worth': 607, 'us': 608, 'nolan': 609, 'direction': 610, 'compared': 611, 'self-': 612, 'directed': 613, 'meaning': 614, 'schedule': 615, 'effective': 616, 'duty': 617, 'archie': 618, 'overtime': 619, 'volunteering': 620, 'need': 621, 'coverage': 622, 'count': 623, 'workload': 624, 'non': 625, 'existent': 626, 'worry': 627, 'may': 628, 'bored': 629, 'provided': 630, 'push': 631, 'intellectually': 632, 'regards': 633, 'eloiseã¢â‚¬â„¢s': 634, 'quarterly': 635, 'conduct': 636, 'sign': 637, 'fulfillment': 638, 'part': 639, 'workflow': 640, 'swiftly': 641, 'rebuke': 642, 'advancement': 643, 'prospect': 644, 'lacey': 645, 'tough': 646, 'deal': 647, 'never': 648, 'perform': 649, 'harder': 650, 'low': 651, 'medium': 652, 'reward': 653, 'teammate': 654, 'ms.': 655, 'thomas': 656, 'continually': 657, 'turning': 658, 'regular': 659, 'basis': 660, 'meets': 661, 'clearly': 662, 'understands': 663, 'addison': 664, 'sloppy': 665, 'remind': 666, 'proofread': 667, 'copy': 668, 'edit': 669, 'remembers': 670, 'instructions': 671, 'keep': 672, 'reminding': 673, 'repeatedly': 674, 'reported': 675, 'pass': 676, 'gets': 677, 'overwhelmed': 678, 'basic': 679, 'improvements': 680, 'unwilling': 681, 'unable': 682, 'follow': 683, 'directions': 684, 'stressed': 685, 'simplest': 686, 'emilia': 687, 'detail': 688, 'concern': 689, 'bit': 690, 'complacent': 691, 'happy': 692, 'skilled': 693, 'unlikely': 694, 'compromise': 695, 'graysen': 696, 'stellar': 697, 'co': 698, 'constantly': 699, 'looking': 700, 'proactive': 701, 'something': 702, 'probably': 703, 'explain': 704, 'orientated': 705, 'everyone': 706, 'strong': 707, 'bailey': 708, 'otherwise': 709, 'responsibility': 710, 'organization': 711, 'likely': 712, 'bare': 713, 'minimum': 714, 'chanel': 715, 'presentation': 716, 'front': 717, 'command': 718, 'presence': 719, 'hold': 720, 'senior': 721, 'presenting': 722, 'suffers': 723, 'lack': 724, 'preparation': 725, 'rehearsed': 726, 'critical': 727, 'presentations': 728, 'flounders': 729, 'presenter': 730, 'budgets': 731, 'days': 732, 'advance': 733, 'rehearsal': 734, 'workday': 735, 'pay': 736, 'meetings': 737, 'leave': 738, 'office': 739, 'dedication': 740, 'service': 741, 'impeccable': 742, 'eager': 743, 'jump': 744, 'expand': 745, 'skillset': 746, 'shy': 747, 'reserved': 748, 'aggressive': 749, 'building': 750, 'creating': 751, 'relationships': 752, 'nervous': 753, 'assigning': 754, 'mackenzie': 755, 'find': 756, 'glaring': 757, 'miscalculations': 758, 'easy': 759, 'catch': 760, 'ca': 761, 'trust': 762, 'review': 763, 'resources': 764, 'worse': 765, 'care': 766, 'making': 767, 'owen': 768, 'demonstrated': 769, 'intangibles': 770, 'notch': 771, 'sophie': 772, 'murray': 773, 'showing': 774, 'irregular': 775, 'matches': 776, 'lately': 777, 'emphasis': 778, '.but': 779, 'moderate': 780, 'talent': 781, 'used': 782, 'sectors': 783, 'gradual': 784, 'side': 785, 'listen': 786, 'remarkably': 787, 'went': 788, 'cover': 789, 'confusing': 790, 'extra': 791, 'outlier': 792, 'wondering': 793, 'moved': 794, 'deals': 795, 'kind': 796, 'jaxson': 797, 'giles': 798, 'truly': 799, 'cause': 800, 'assigned': 801, 'excels': 802, 'fits': 803, 'personality': 804, 'jimmy': 805, 'adept': 806, 'writing': 807, 'stand': 808, 'quickly': 809, 'synthesize': 810, 'information': 811, 'writer': 812, 'ever': 813, 'fact': 814, '24': 815, 'page': 816, 'despite': 817, 'verbal': 818, 'communication': 819, 'lacking': 820, 'signed': 821, 'participate': 822, 'workshop': 823, 'joseph': 824, 'adhere': 825, 'break': 826, 'times': 827, 'complex': 828, 'fair': 829, 'treat': 830, 'equal': 831, 'jalen': 832, 'summers': 833, \"'\": 834, 'substandard': 835, 'occasions': 836, 'prepare': 837, 'discovery': 838, 'missed': 839, 'unenthusiastic': 840, 'stay': 841, 'important': 842, 'casework': 843, 'nearly': 844, 'sporadic': 845, 'vacation': 846, 'personal': 847, 'view': 848, 'shooter': 849, ':': 850, 'asking': 851, 'increase': 852, 'live': 853, 'chance': 854, 'timed': 855, 'extremely': 856, 'sensitive': 857, '---': 858, 'quite': 859, 'generous': 860, 'libby': 861, 'capable': 862, 'cleaning': 863, 'facility': 864, 'support': 865, 'grasped': 866, 'essential': 867, 'specifically': 868, 'appropriately': 869, 'clean': 870, 'restrooms': 871, 'especially': 872, 'men': 873, 'rooms': 874, 'stated': 875, 'uncomfortable': 876, 'urinals': 877, 'gloves': 878, 'anti': 879, 'bacterial': 880, 'cleaner': 881, 'face': 882, 'masks': 883, 'type': 884, 'explaining': 885, 'core': 886, 'felt': 887, 'became': 888, 'comfortable': 889, 'later': 890, 'replied': 891, 'positions': 892, 'dylan': 893, 'standards': 894, 'unfortunate': 895, 'applies': 896, 'reaching': 897, 'greater': 898, 'levels': 899, 'indeed': 900, 'reach': 901, 'achieving': 902, 'pinch': 903, 'requested': 904, 'conscientious': 905, 'technical': 906, 'abilities': 907, 'diligence': 908, 'quiet': 909, 'introverted': 910, 'connect': 911, 'caylee': 912, 'flash': 913, 'hints': 914, 'redeemable': 915, 'qualities': 916, 'candidate': 917, 'performed': 918, 'ranked': 919, 'highly': 920, 'amongst': 921, 'recommend': 922, 'reading': 923, 'econometrics': 924, 'achieved': 925, 'full': 926, '10': 927, 'marks': 928, 'tom': 929, 'houghton': 930, 'proof': 931, 'read': 932, 'careless': 933, 'lowest': 934, 'flashes': 935, 'noah': 936, 'gone': 937, 'certainly': 938, 'underestimated': 939, 'path': 940, 'came': 941, 'board': 942, 'picked': 943, 'wow': 944, 'numbers': 945, 'today': 946, 'role': 947, 'perdo': 948, 'david': 949, 'efficiently': 950, 'pedro': 951, 'meeting': 952, 'operating': 953, 'things': 954, 'teagan': 955, 'key': 956, 'joining': 957, 'tried': 958, 'overcome': 959, 'efforts': 960, 'focus': 961, '&': 962, 'determination': 963, 'erin': 964, 'struggled': 965, 'general': 966, 'output': 967, 'seemingly': 968, 'displayed': 969, 'innate': 970, 'sees': 971, 'bigger': 972, 'mentored': 973, 'towards': 974, 'camille': 975, 'hahn': 976, 'inconsistency': 977, 'believ': 978, 'teamplayer': 979, 'incorporate': 980, 'listened': 981, 'cooperated': 982, 'reid': 983, 'disappointing': 984, 'possess': 985, 'adjustments': 986, 'fully': 987, 'adjusts': 988, 'finds': 989, 'finding': 990, 'sellers': 991, 'say': 992, 'culmination': 993, 'natural': 994, 'talents': 995, 'decades': 996, 'faced': 997, 'trials': 998, 'tribulations': 999, 'folded': 1000, 'distress': 1001, 'surely': 1002, 'bates': 1003, 'spends': 1004, 'details': 1005, 'overlooked': 1006, 'exceptionally': 1007, 'hand': 1008, 'imagine': 1009, 'ways': 1010, 'creative': 1011, 'coming': 1012, 'uncommon': 1013, 'ingenuity': 1014, 'friend': 1015, 'colleague': 1016, 'matthew': 1017, 'impressive': 1018, 'finest': 1019, 'division': 1020, 'fails': 1021, 'higher': 1022, 'eyes': 1023, 'ventures': 1024, 'love': 1025, 'recruit': 1026, 'wo': 1027, 'pour': 1028, 'keeping': 1029, 'remained': 1030, 'progress': 1031, 'madison': 1032, 'spirit': 1033, 'sharp': 1034, 'witted': 1035, 'deliver': 1036, 'possible': 1037, 'miles': 1038, 'efficiency': 1039, 'intelligence': 1040, 'customers': 1041, 'raving': 1042, 'alecia': 1043, 'seriously': 1044, 'speed': 1045, 'multi': 1046, 'tasking': 1047, 'raise': 1048, 'mr.': 1049, 'fleming': 1050, 'completes': 1051, 'per': 1052, 'description': 1053, 'counted': 1054, 'elliot': 1055, 'gray': 1056, 'delivers': 1057, 'standard': 1058, 'group': 1059, 'undertaken': 1060, 'lacks': 1061, 'momentum': 1062, 'holding': 1063, 'circumstances': 1064, 'barrett': 1065, 'struggling': 1066, 'rarely': 1067, 'reluctant': 1068, 'hampering': 1069, 'distracted': 1070, 'finished': 1071, 'april': 1072, 'disappoint': 1073, 'loved': 1074, 'nt': 1075, 'lastly': 1076, 'rehire': 1077, 'dallas': 1078, 'whitehead': 1079, 'careful': 1080, 'max': 1081, 'miller': 1082, 'valuable': 1083, 'marketing': 1084, 'successfully': 1085, 'submitting': 1086, 'materials': 1087, 'various': 1088, 'products': 1089, 'tremendous': 1090, '\"': 1091, 'material': 1092, 'afraid': 1093, 'outside': 1094, 'box': 1095, 'expertise': 1096, 'thoroughly': 1097, 'analyze': 1098, 'requirements': 1099, 'produce': 1100, 'passed': 1101, 'test': 1102, 'cases': 1103, 'additionally': 1104, 'responds': 1105, 'internalizes': 1106, 'improves': 1107, 'leading': 1108, 'entire': 1109, 'caiden': 1110, 'slumped': 1111, 'appears': 1112, 'desk': 1113, 'notice': 1114, 'diminished': 1115, 'ambition': 1116, 'constructive': 1117, 'resist': 1118, 'assurance': 1119, 'emerson': 1120, 'rose': 1121, 'becomes': 1122, 'finishing': 1123, 'said': 1124, 'excel': 1125, 'completion': 1126, 'bruno': 1127, 'definite': 1128, 'dealership': 1129, 'dealing': 1130, 'termination': 1131, '7th': 1132, 'vehicle': 1133, 'understood': 1134, 'instrumental': 1135, 'closing': 1136, 'decided': 1137, 'return': 1138, 'offer': 1139, 'expecting': 1140, 'initially': 1141, 'salesperson': 1142, 'husband': 1143, '8th': 1144, '9th': 1145, 'lease': 1146, '   ': 1147, 'thanks': 1148, 'special': 1149, ':)': 1150, 'considerable': 1151, 'half': 1152, 'year': 1153, 'taken': 1154, 'initiatives': 1155, 'documenting': 1156, 'workflows': 1157, 'base': 1158, 'migration': 1159, 'handled': 1160, 'smoothly': 1161, 'upcoming': 1162, 'technology': 1163, 'certification': 1164, 'boost': 1165, 'jude': 1166, 'embarrassment': 1167, 'cares': 1168, 'keeps': 1169, 'underperforming': 1170, 'trouble': 1171, 'misses': 1172, 'small': 1173, 'informations': 1174, 'learns': 1175, 'weaker': 1176, 'guidance': 1177, 'brantley': 1178, 'proved': 1179, 'intelligent': 1180, 'learning': 1181, 'responsive': 1182, 'communicator': 1183, '\\n\\n': 1184, 'family': 1185, '100': 1186, '%': 1187, 'lagging': 1188, 'delivering': 1189, 'absent': 1190, 'occasional': 1191, 'allow': 1192, 'sort': 1193, 'jennings': 1194, 'category': 1195, '1': 1196, 'loosing': 1197, 'criterias': 1198, 'contribution': 1199, 'challenges': 1200, 'communicating': 1201, 'morale': 1202, '/': 1203, 'relationship': 1204, 'moral': 1205, 'transition': 1206, 'educator': 1207, 'desire': 1208, 'movement': 1209, 'accurately': 1210, 'evident': 1211, 'assistance': 1212, 'esmeralda': 1213, 'considerate': 1214, 'helps': 1215, 'bring': 1216, 'choose': 1217, 'center': 1218, 'attention': 1219, 'stars': 1220, 'content': 1221, 'progressing': 1222, 'nothing': 1223, 'exemplary': 1224, 'goes': 1225, 'proven': 1226, 'improving': 1227, 'doubt': 1228, 'joe': 1229, 'white': 1230, 'skillful': 1231, 'jobs': 1232, 'successful': 1233, 'imagination': 1234, 'established': 1235, 'achieve': 1236, 'mental': 1237, 'analyzes': 1238, 'completely': 1239, 'jeopardizing': 1240, 'spoke': 1241, 'realize': 1242, 'emergencies': 1243, 'affecting': 1244, 'started': 1245, 'caused': 1246, 'several': 1247, 'months': 1248, 'promised': 1249, 'resolved': 1250, '(': 1251, 'eventually': 1252, ')': 1253, 'glimmers': 1254, 'improved': 1255, 'starting': 1256, 'motivate': 1257, 'instruction': 1258, 'supervisors': 1259, 'moments': 1260, 'deeply': 1261, 'head': 1262, 'hire': 1263, 'sets': 1264, 'apart': 1265, 'freya': 1266, 'teaching': 1267, 'relying': 1268, 'independently': 1269, 'result': 1270, 'handle': 1271, 'pressures': 1272, 'responsibilities': 1273, 'ladder': 1274, 'joel': 1275, 'accomplish': 1276, 'occasionally': 1277, 'idle': 1278, 'proficient': 1279, 'opportunities': 1280, 'douglas': 1281, 'henry': 1282, 'arrives': 1283, 'phones': 1284, 'sick': 1285, 'excuses': 1286, 'immediate': 1287, 'superior': 1288, 'concentration': 1289, 'daydreaming': 1290, 'short': 1291, 'soon': 1292, 'riley': 1293, 'amazing': 1294, 'valued': 1295, 'promptly': 1296, 'actions': 1297, 'absolutely': 1298, 'ideally': 1299, 'suited': 1300, 'cope': 1301, 'glad': 1302, 'characterized': 1303, 'unusual': 1304, 'bad': 1305, 'standout': 1306, 'idea': 1307, 'shannon': 1308, 'harvey': 1309, 'commendable': 1310, 'nurture': 1311, 'emilie': 1312, 'friendly': 1313, '6': 1314, 'slowly': 1315, 'aniya': 1316, 'favourite': 1317, 'whole': 1318, 'rely': 1319, 'managerial': 1320, 'roles': 1321, 'finley': 1322, 'extraordinarily': 1323, 'open': 1324, 'proactively': 1325, 'almost': 1326, 'faults': 1327, 'strengths': 1328, 'either': 1329, 'amy': 1330, 'table': 1331, 'insights': 1332, 'allowed': 1333, 'workers': 1334, 'aspect': 1335, 'awareness': 1336, 'encouraged': 1337, 'carefully': 1338, 'says': 1339, 'wastes': 1340, 'irrelevant': 1341, 'problem': 1342, 'interpersonal': 1343, 'george': 1344, 'gill': 1345, 'concentrates': 1346, 'zero': 1347, 'involvement': 1348, 'angelica': 1349, 'peterson': 1350, 'deliverables': 1351, 'period': 1352, 'multiple': 1353, 'points': 1354, 'friendlier': 1355, 'teams': 1356, 'together': 1357, 'collaborative': 1358, 'layers': 1359, 'sooner': 1360, 'wade': 1361, 'capabilities': 1362, 'bursts': 1363, 'bogged': 1364, 'distractions': 1365, 'order': 1366, 'true': 1367, 'leverage': 1368, 'mindfulness': 1369, 'techniques': 1370, 'free': 1371, 'cost': 1372, 'businesses': 1373, 'alike': 1374, 'lance': 1375, 'hatfield': 1376, 'coworkers': 1377, 'trusted': 1378, 'maintain': 1379, 'create': 1380, 'responsibilites': 1381, 'sara': 1382, 'exceptional': 1383, 'succeeding': 1384, '?': 1385, 'developing': 1386, 'yet': 1387, 'inconsistent': 1388, 'puts': 1389, 'follows': 1390, 'hired': 1391, 'braiden': 1392, 'reached': 1393, 'quotas': 1394, 'internal': 1395, 'industry': 1396, 'term': 1397, 'investment': 1398, 'moises': 1399, 'class': 1400, 'wait': 1401, 'reaches': 1402, 'cason': 1403, 'perpetually': 1404, 'failed': 1405, 'control': 1406, 'checkpoint': 1407, 'necessity': 1408, 'replacement': 1409, 'unless': 1410, 'miraculous': 1411, 'par': 1412, 'lexi': 1413, 'varied': 1414, 'dwarfed': 1415, 'perceived': 1416, 'obvious': 1417, 'frustration': 1418, 'recover': 1419, 'persistence': 1420, 'mood': 1421, 'logan': 1422, 'accurate': 1423, 'professional': 1424, 'peak': 1425, 'recorded': 1426, '632': 1427, 'billable': 1428, 'workhorse': 1429, 'amazon': 1430, 'trial': 1431, 'marked': 1432, 'significant': 1433, 'workaday': 1434, 'production': 1435, 'previous': 1436, 'quarters': 1437, 'sum': 1438, 'passable': 1439, 'albeit': 1440, 'potentially': 1441, 'related': 1442, 'implement': 1443, 'solution': 1444, 'deon': 1445, 'minutes': 1446, 'shift': 1447, 'begins': 1448, 'attendance': 1449, 'offers': 1450, 'regardless': 1451, 'admirable': 1452, 'temporary': 1453, 'education': 1454, 'recommended': 1455, 'classes': 1456, 'keys': 1457, 'difficulty': 1458, 'locating': 1459, 'instances': 1460, 'expectation': 1461, 'coaching': 1462, 'extended': 1463, 'timeline': 1464, 'establish': 1465, 'check': 1466, 'consistency': 1467, 'outstanding': 1468, 'streamlines': 1469, 'brainstorming': 1470, 'absolute': 1471, 'pleasure': 1472, 'landing': 1473, 'diligent': 1474, 'means': 1475, 'pm': 1476, 'exponential': 1477, 'attends': 1478, 'women': 1479, 'conference': 1480, 'ollie': 1481, 'mason': 1482, 'poorly': 1483, 'researched': 1484, 'phone': 1485, 'manage': 1486, 'young': 1487, 'surreal': 1488, 'describe': 1489, 'achievements': 1490, 'sat': 1491, 'chair': 1492, 'jury': 1493, 'verdicts': 1494, 'matters': 1495, 'apparent': 1496, 'politics': 1497, 'shareholder': 1498, 'active': 1499, 'camden': 1500, 'county': 1501, 'rumored': 1502, 'senate': 1503, '6th': 1504, 'legislative': 1505, 'district': 1506, 'domain': 1507, 'execution': 1508, 'mark': 1509, 'match': 1510, 'response': 1511, 'enjoy': 1512, 'wish': 1513, 'amelie': 1514, 'passion': 1515, 'claimed': 1516, 'excelling': 1517, 'social': 1518, 'must': 1519, 'pace': 1520, 's.': 1521, 'mid': 1522, 'demands': 1523, 'rating': 1524, 'stands': 1525, 'exhibiting': 1526, 'prefer': 1527, 'santos': 1528, 'place': 1529, 'hays': 1530, 'missing': 1531, 'appear': 1532, 'talk': 1533, 'hawkins': 1534, 'interview': 1535, 'actor': 1536, 'teacher': 1537, 'arts': 1538, 'require': 1539, 'second': 1540, 'external': 1541, 'home': 1542, 'leaving': 1543, 'handing': 1544, 'extensions': 1545, 'frequent': 1546, 'dedicate': 1547, 'ongoing': 1548, 'aspects': 1549, 'approve': 1550, 'sonny': 1551, 'charming': 1552, 'sales': 1553, 'busy': 1554, 'station': 1555, 'catching': 1556, 'emails': 1557, 'meanwhile': 1558, 'plays': 1559, 'slacks': 1560, 'mind': 1561, 'ideal': 1562, 'told': 1563, 'implied': 1564, 'repeated': 1565, 'lags': 1566, 'understanding': 1567, 'beyong': 1568, 'specification': 1569, 'activities': 1570, 'energy': 1571, 'saddening': 1572, 'herrera': 1573, 'succeeded': 1574, 'fulfilling': 1575, 'developed': 1576, 'program': 1577, 'productivity': 1578, 'market': 1579, 'interacted': 1580, 'professionally': 1581, 'processes': 1582, 'finishes': 1583, 'pursues': 1584, 'kelly': 1585, 'maintains': 1586, 'assessing': 1587, 'innovate': 1588, 'relaxed': 1589, 'learner': 1590, 'seeks': 1591, 'exhibits': 1592, 'engagements': 1593, 'offered': 1594, 'nicole': 1595, 'hit': 1596, 'ones': 1597, 'dennis': 1598, 'commitment': 1599, 'reflects': 1600, 'supervisor': 1601, 'andrea': 1602, 'data': 1603, 'entry': 1604, '230': 1605, 'kpm': 1606, 'numerical': 1607, 'supportive': 1608, 'found': 1609, 'accomplished': 1610, 'attempted': 1611, 'advanced': 1612, 'butler': 1613, 'ease': 1614, 'watts': 1615, 'guide': 1616, 'greatness': 1617, 'rodriquez': 1618, 'winning': 1619, 'matched': 1620, 'growing': 1621, 'ver': 1622, 'kallie': 1623, 'beard': 1624, '7': 1625, '8': 1626, 'fun': 1627, 'gain': 1628, 'fans': 1629, 'journey': 1630, 'cook': 1631, 'completed': 1632, 'contributor': 1633, 'steady': 1634, 'engaged': 1635, 'mentorship': 1636, 'getting': 1637, 'settled': 1638, 'produced': 1639, 'pieces': 1640, 'wandering': 1641, 'chatting': 1642, 'chat': 1643, 'discussion': 1644, 'inability': 1645, 'addressed': 1646, 'praised': 1647, 'frustrating': 1648, 'attend': 1649, 'corrections': 1650, 'slow': 1651, 'confused': 1652, 'yahir': 1653, 'interesting': 1654, 'tap': 1655, 'promote': 1656, 'balance': 1657, 'pragmatic': 1658, 'carl': 1659, 'okay': 1660, 'choice': 1661, 'surprised': 1662, 'mediocre': 1663, 'allan': 1664, 'touches': 1665, 'anything': 1666, 'gold': 1667, 'dream': 1668, 'beacon': 1669, 'associate': 1670, 'checks': 1671, 'hesitant': 1672, 'speaking': 1673, '20': 1674, 'moreover': 1675, 'longer': 1676, 'declan': 1677, 'managed': 1678, 'hoping': 1679, 'middling': 1680, 'body': 1681, 'somewhere': 1682, 'sub': 1683, 'reflect': 1684, \"'re\": 1685, 'filled': 1686, 'font': 1687, 'randomly': 1688, 'changes': 1689, 'formatting': 1690, 'spacing': 1691, 'correcting': 1692, 'spoken': 1693, 'importance': 1694, 'reviewing': 1695, 'blown': 1696, 'continued': 1697, 'invested': 1698, 'leo': 1699, 'classic': 1700, 'traits': 1701, 'point': 1702, 'aligned': 1703, 'specific': 1704, 'garner': 1705, 'strength': 1706, 'fields': 1707, 'footing': 1708, 'containing': 1709, 'thing': 1710, 'strides': 1711, 'documents': 1712, 'sophistication': 1713, 'remaining': 1714, 'redone': 1715, 'another': 1716, 'overstaying': 1717, 'lunch': 1718, 'outs': 1719, 'masters': 1720, 'software': 1721, 'programs': 1722, 'prefers': 1723, 'detriment': 1724, 'decline': 1725, 'concerned': 1726, 'reason': 1727, 'azariah': 1728, 'talented': 1729, 'superb': 1730, 'storylines': 1731, 'generates': 1732, 'advertising': 1733, 'pitches': 1734, 'screen': 1735, 'routinely': 1736, 'highest': 1737, 'executive': 1738, 'competent': 1739, 'complaints': 1740, 'terms': 1741, 'undertaking': 1742, 'carried': 1743, 'isobel': 1744, 'tenure': 1745, 'capably': 1746, 'margaret': 1747, 'gallagher': 1748, 'proud': 1749, 'markus': 1750, 'master': 1751, 'unsuccessful': 1752, 'equipped': 1753, 'assists': 1754, 'public': 1755, 'confidence': 1756, 'heavier': 1757, 'joyce': 1758, 'hannah': 1759, 'dependable': 1760, 'hardwork': 1761, 'outperform': 1762, 'eagerly': 1763, 'accepts': 1764, 'daily': 1765, 'crushing': 1766, 'wanted': 1767, 'express': 1768, 'appreciation': 1769, 'honor': 1770, 'detrimental': 1771, 'rehiring': 1772, 'zachary': 1773, 'doyle': 1774, 'goal': 1775, 'setting': 1776, 'diamond': 1777, 'rough': 1778, 'unmatched': 1779, 'tutelage': 1780, 'brings': 1781, 'continueings': 1782, 'expanded': 1783, 'diverse': 1784, 'frederick': 1785, 'rogers': 1786, 'season': 1787, 'uplifting': 1788, \"''\": 1789, 'play': 1790, 'clearing': 1791, 'kohen': 1792, 'norris': 1793, 'evaluation': 1794, 'consecutive': 1795, 'negative': 1796, 'detailed': 1797, 'outline': 1798, 'item': 1799, 'headed': 1800, '2': 1801, 'informed': 1802, 'combative': 1803, 'hardworking': 1804, 'challenge': 1805, 'concerning': 1806, 'niko': 1807, 'oliver': 1808, 'simply': 1809, 'stunning': 1810, 'captivating': 1811, 'performances': 1812, 'outshines': 1813, 'feeling': 1814, 'provoking': 1815, 'scenes': 1816, 'incredible': 1817, 'gifts': 1818, 'watching': 1819, 'emotion': 1820, 'forefront': 1821, 'directly': 1822, 'trail': 1823, 'worst': 1824, 'train': 1825, 'moment': 1826, 'discipline': 1827, 'nee': 1828, 'foremost': 1829, 'normal': 1830, 'null': 1831, 'stretches': 1832, 'thin': 1833, 'happens': 1834, 'sky': 1835, 'limit': 1836, 'tension': 1837, 'redeeming': 1838, 'focused': 1839, 'negatives': 1840, 'outweigh': 1841, 'error': 1842, 'paid': 1843, 'clear': 1844, 'abysmal': 1845, 'furthermore': 1846, 'feed': 1847, 'try': 1848, 'removed': 1849, 'forth': 1850, 'plan': 1851, 'gay': 1852, 'bread': 1853, 'butter': 1854, 'stream': 1855, 'noted': 1856, 'foundation': 1857, 'force': 1858, 'increases': 1859, 'dismiss': 1860, 'harmful': 1861, 'effect': 1862, 'carson': 1863, 'vargas': 1864, 'caring': 1865, 'genuine': 1866, 'countless': 1867, 'brought': 1868, 'revenue': 1869, 'build': 1870, 'corporate': 1871, 'stood': 1872, 'crowd': 1873, 'solving': 1874, 'pair': 1875, 'pressure': 1876, 'increased': 1877, 'alfie': 1878, 'wright': 1879, '4': 1880, 'rank': 1881, 'plain': 1882, 'putting': 1883, 'passions': 1884, 'allowing': 1885, 'explore': 1886, 'options': 1887, 'thrive': 1888, 'step': 1889, 'consider': 1890, 'regan': 1891, 'rhodes': 1892, 'accommodate': 1893, 'endeavors': 1894, 'mile': 1895, 'partner': 1896, 'partners': 1897, 'seeking': 1898, 'clayton': 1899, 'joy': 1900, 'everybody': 1901, 'compete': 1902, 'rise': 1903, 'fast': 1904, 'oft': 1905, 'viable': 1906, 'esmealda': 1907, 'langley': 1908, 'succeeds': 1909, 'nine': 1910, 'fiver': 1911, 'natasha': 1912, 'richardson': 1913, 'producer': 1914, 'logging': 1915, '600': 1916, 'contacts': 1917, 'securing': 1918, 'likelihood': 1919, 'aspires': 1920, 'house': 1921, 'counsel': 1922, 'consequently': 1923, 'tepid': 1924, 'poractive': 1925, 'loves': 1926, 'lovable': 1927, 'meant': 1928, 'cooped': 1929, 'pushing': 1930, 'papers': 1931, 'warmth': 1932, 'interaction': 1933, 'hr': 1934, 'relations': 1935, 'community': 1936, 'jaiden': 1937, 'failing': 1938, 'lacklustre': 1939, 'simple': 1940, '3': 1941, 'elsewhere': 1942, '9': 1943, 'nice': 1944, 'satisfying': 1945, 'add': 1946, 'upper': 1947, 'opportunity': 1948, 'deegan': 1949, 'effectively': 1950, 'morgan': 1951, 'commended': 1952, 'contributions': 1953, '....': 1954, 'truthfully': 1955, 'applaud': 1956, 'staff': 1957, 'presented': 1958, 'targets': 1959, '65': 1960, 'display': 1961, 'close': 1962, 'timid': 1963, 'approach': 1964, 'reducing': 1965, 'transaction': 1966, 'therefore': 1967, 'name': 1968, 'guy': 1969, 'joined': 1970, 'attributes': 1971, 'kept': 1972, 'huge': 1973, 'weak': 1974, 'competencies': 1975, 'pillars': 1976, 'britt': 1977, 'tendency': 1978, 'fashion': 1979, 'proves': 1980, 'excited': 1981, 'baker': 1982, 'patient': 1983, 'noticed': 1984, 'speak': 1985, 'partnered': 1986, 'exercises': 1987, 'thinks': 1988, 'toes': 1989, 'organized': 1990, 'contained': 1991, 'serious': 1992, 'relating': 1993, 'checked': 1994, 'large': 1995, 'gaps': 1996, 'literature': 1997, 'demanding': 1998, 'returned': 1999, 'norm': 2000, 'sullivan': 2001, 'reckoned': 2002, 'prosperous': 2003, 'demonstrate': 2004, 'strongest': 2005, 'question': 2006, 'mentor': 2007, 'rock': 2008, 'bearings': 2009, 'misunderstood': 2010, 'submitted': 2011, 'actually': 2012, 'purchased': 2013, 'fifty': 2014, 'coached': 2015, 'clarification': 2016, 'whenever': 2017, 'advice': 2018, 'heart': 2019, 'constant': 2020, 'encouragement': 2021, 'arriving': 2022, 'returning': 2023, 'punctuality': 2024, 'useful': 2025, 'input': 2026, 'burden': 2027, 'timeframe': 2028, 'submission': 2029, 'adding': 2030, 'reliably': 2031, 'accepting': 2032, 'affected': 2033, 'placement': 2034, 'nevertheless': 2035, 'competence': 2036, 'outweighs': 2037, 'noting': 2038, 'scattered': 2039, 'smashing': 2040, 'competition': 2041, 'barely': 2042, 'suggest': 2043, 'alonso': 2044, 'connections': 2045, 'onboarding': 2046, 'buddy': 2047, 'onboard': 2048, 'twice': 2049, 'deviations': 2050, 'ample': 2051, 'warning': 2052, 'fallen': 2053, 'respectable': 2054, 'changing': 2055, 'behavior': 2056, 'fellow': 2057, 'strongly': 2058, 'terminate': 2059, 'contract': 2060, 'associates': 2061, 'slips': 2062, 'giving': 2063, 'freddie': 2064, 'davies': 2065, 'rachel': 2066, 'turner': 2067, 'engine': 2068, 'strategical': 2069, 'dean': 2070, 'accomplishes': 2071, 'satisfactorily': 2072, 'respects': 2073, 'particularly': 2074, 'stepping': 2075, 'recently': 2076, 'couple': 2077, 'welcomed': 2078, 'join': 2079, 'managers': 2080, 'chelsea': 2081, 'stevens': 2082, 'enjoys': 2083, 'cheers': 2084, 'encourages': 2085, 'jacobson': 2086, 'excelled': 2087, 'repetitive': 2088, 'degree': 2089, 'analytical': 2090, 'quantitative': 2091, 'straightforward': 2092, 'yes': 2093, 'outcomes': 2094, 'crunch': 2095, 'invest': 2096, 'cristian': 2097, 'utilize': 2098, 'kieran': 2099, 'ought': 2100, 'pro': 2101, 'waiting': 2102, 'fly': 2103, 'sound': 2104, 'apathetic': 2105, 'burke': 2106, 'modest': 2107, 'surpass': 2108, 'noel': 2109, 'chapman': 2110, 'getter': 2111, 'juggling': 2112, 'items': 2113, 'mindset': 2114, 'broderick': 2115, 'wildcard': 2116, 'crass': 2117, 'respected': 2118, 'graduated': 2119, 'college': 2120, 'implementing': 2121, 'allocated': 2122, 'engagement': 2123, 'retaining': 2124, 'makenna': 2125, 'justice': 2126, 'desired': 2127, 'gem': 2128, 'workplace': 2129, 'weight': 2130, 'heights': 2131, 'objectives': 2132, 'brynlee': 2133, 'advise': 2134, 'supervisory': 2135, 'complain': 2136, 'reprimands': 2137, 'adjusting': 2138, 'opinion': 2139, 'certain': 2140, 'request': 2141, 'counterarguments': 2142, 'drafting': 2143, 'plug': 2144, 'hole': 2145, 'considering': 2146, 'perspectives': 2147, 'applied': 2148, 'gavyn': 2149, 'acevedo': 2150, 'contact': 2151, 'thorough': 2152, 'internalizing': 2153, 'constituently': 2154, 'helping': 2155, 'jayden': 2156, 'horne': 2157, 'parker': 2158, 'sufficient': 2159, 'west': 2160, 'thank': 2161, 'merely': 2162, 'clay': 2163, 'rodriguez': 2164, 'outstandingly': 2165, 'drastically': 2166, 'line': 2167, 'ordinary': 2168, 'impressing': 2169, 'resume': 2170, 'involved': 2171, 'socialising': 2172, 'attending': 2173, 'remove': 2174, 'accuracy': 2175, 'withint': 2176, 'hiss': 2177, 'signs': 2178, 'ambitions': 2179, 'institution': 2180, 'everyday': 2181, 'attempts': 2182, 'priority': 2183, 'redundancy': 2184, 'list': 2185, 'davidson': 2186, 'determined': 2187, 'nicely': 2188, 'expects': 2189, 'isn;t': 2190, 'bryleigh': 2191, 'endless': 2192, 'fundamentals': 2193, 'theoretical': 2194, 'accounts': 2195, 'ultimately': 2196, 'underperforms': 2197, 'nature': 2198, 'math': 2199, 'boot': 2200, 'camp': 2201, 'assets': 2202, 'unlock': 2203, 'nobody': 2204, 'section': 2205, 'inspiration': 2206, 'facet': 2207, 'abrasive': 2208, 'environment': 2209, 'stretch': 2210, 'neither': 2211, 'awful': 2212, 'mediocrity': 2213, 'nonetheless': 2214, 'greatest': 2215, 'gift': 2216, 'presents': 2217, 'employer': 2218, 'availability': 2219, 'thankful': 2220, 'covered': 2221, 'jamari': 2222, 'wonderful': 2223, 'salesman': 2224, 'study': 2225, 'records': 2226, 'lackluster': 2227, 'pandemic': 2228, 'economic': 2229, 'downturn': 2230, 'system': 2231, 'conducting': 2232, 'researches': 2233, 'translate': 2234, 'profit': 2235, 'reply': 2236, 'fix': 2237, 'creates': 2238, 'vastly': 2239, 'gains': 2240, 'flourish': 2241, 'optimist': 2242, 'trait': 2243, 'attempt': 2244, 'space': 2245, 'astounding': 2246, 'buchanan': 2247, 'terrible': 2248, 'hurt': 2249, 'power': 2250, 'talia': 2251, 'shines': 2252, 'strives': 2253, 'major': 2254, 'world': 2255, 'main': 2256, 'inattention': 2257, 'costly': 2258, 'functioning': 2259, 'adeptly': 2260, 'churns': 2261, 'roadblock': 2262, 'layla': 2263, 'overpromised': 2264, 'squeaks': 2265, 'accomplishment': 2266, 'appropriate': 2267, 'appreciated': 2268, 'complies': 2269, 'component': 2270, 'surpassed': 2271, 'upside': 2272, 'extract': 2273, '..': 2274, 'executing': 2275, 'popular': 2276, 'intuitively': 2277, 'checking': 2278, 'final': 2279, 'copies': 2280, 'regard': 2281, 'sightly': 2282, 'enthusiast': 2283, 'driven.can': 2284, 'lacked': 2285, 'pages': 2286, 'footnotes': 2287, 'numbering': 2288, 'scramble': 2289, 'draft': 2290, 'realizing': 2291, 'carelessness': 2292, 'attributed': 2293, 'emergency': 2294, 'christian': 2295, 'adapt': 2296, 'rapidly': 2297, 'wherever': 2298, 'delegate': 2299, 'assistant': 2300, 'instead': 2301, 'productive': 2302, 'prioritize': 2303, 'houston': 2304, 'developer': 2305, 'onboarded': 2306, 'ago': 2307, 'impress': 2308, 'fulfill': 2309, 'obligations': 2310, 'customer': 2311, 'applications': 2312, 'optimizations': 2313, 'faltered': 2314, 'pate': 2315, 'saved': 2316, 'stages': 2317, 'respect': 2318, 'cut': 2319, 'earn': 2320, 'positively': 2321, 'johns': 2322, 'tis': 2323, 'volume': 2324, 'evaluate': 2325, 'priorities': 2326, 'sixth': 2327, 'employment': 2328, 'services': 2329, 'coordinator': 2330, 'satisfied': 2331, 'discussed': 2332, 'pleased': 2333, 'feels': 2334, 'sometime': 2335, 'explained': 2336, 'passes': 2337, 'occasion': 2338, 'limits': 2339, 'bringing': 2340, 'double': 2341, 'belongs': 2342, 'nowadays': 2343, 'litany': 2344, 'contributed': 2345, 'leads': 2346, 'revealed': 2347, 'heavily': 2348, 'portfolios': 2349, 'sale': 2350, 'expert': 2351, 'negotiator': 2352, 'fearless': 2353, 'ambitious': 2354, 'staying': 2355, 'appreciates': 2356, 'receive': 2357, 'experienced': 2358, 'collaborates': 2359, 'stickler': 2360, 'flawless': 2361, 'left': 2362, 'abrupt': 2363, 'mentioned': 2364, 'agreed': 2365, 'acknowledged': 2366, 't.': 2367, 'burgess': 2368, 'engage': 2369, 'exceeded': 2370, 'chances': 2371, 'continuing': 2372, 'neglects': 2373, 'rude': 2374, 'conversations': 2375, 'expressed': 2376, 'dissatisfaction': 2377, 'volunteer': 2378, 'jeopardizes': 2379, 'scrambling': 2380, 'gotten': 2381, 'boundaries': 2382, 'anticipate': 2383, 'usual': 2384, 'smartest': 2385, 'contains': 2386, ';': 2387, 'uninterested': 2388, 'speaks': 2389, 'smart': 2390, 'paycheck': 2391, 'actively': 2392, 'discussions': 2393, 'hour': 2394, 'blame': 2395, 'runs': 2396, 'personnel': 2397, 'adapted': 2398, 'readily': 2399, 'style': 2400, 'previously': 2401, 'pushes': 2402, 'mr': 2403, 'understatement': 2404, 'flooded': 2405, 'unplanned': 2406, 'citing': 2407, 'blatant': 2408, 'lie': 2409, 'according': 2410, 'media': 2411, 'alarmingly': 2412, 'lower': 2413, 'redeem': 2414, 'ignores': 2415, 'filing': 2416, 'highten': 2417, 'hunter': 2418, 'oscillates': 2419, 'competently': 2420, '50': 2421, 'brief': 2422, 'transmittal': 2423, 'letters': 2424, 'unexceptional': 2425, 'adapting': 2426, 'reputation': 2427, 'proper': 2428, 'discover': 2429, 'integrate': 2430, 'earning': 2431, 'delivery': 2432, 'toby': 2433, 'raised': 2434, 'profile': 2435, 'realise': 2436, 'expressly': 2437, 'indicated': 2438, 'formal': 2439, 'existing': 2440, 'remains': 2441, 'uncertain': 2442, 'outlook': 2443, 'regarding': 2444, 'reminded': 2445, 'organzination': 2446, 'partially': 2447, 'unit': 2448, 'maintaining': 2449, 'thaddeus': 2450, 'grateful': 2451, 'counselling': 2452, 'investigative': 2453, 'resource': 2454, 'glitches': 2455, 'assess': 2456, 'identify': 2457, 'clarke': 2458, 'teamhe': 2459, '.his': 2460, 'represents': 2461, 'organisation': 2462, 'ton': 2463, 'supervision': 2464, 'following': 2465, 'gradually': 2466, 'intense': 2467, 'form': 2468, 'alternatives': 2469, 'posses': 2470, 'agree': 2471, 'assumptions': 2472, 'fatal': 2473, 'flaw': 2474, 'largely': 2475, 'viewed': 2476, 'passionate': 2477, 'versus': 2478, 'argumentative': 2479, 'stubborn': 2480, 'upgrade': 2481, 'wich': 2482, 'autority': 2483, 'decide': 2484, 'boss': 2485, 'hight': 2486, 'source': 2487, 'footnoted': 2488, 'citations': 2489, 'perfection': 2490, 'spent': 2491, 'pursuing': 2492, 'application': 2493, 'alone': 2494, 'morning': 2495, 'mandatory': 2496, 'typically': 2497, 'situation': 2498, 'surprises': 2499, 'gives': 2500, '25': 2501, 'talked': 2502, 'defensive': 2503, 'deny': 2504, 'examples': 2505, 'act': 2506, 'rigid': 2507, 'unresolved': 2508, 'provides': 2509, 'hesitance': 2510, 'incremental': 2511, 'promotions': 2512, 'slightly': 2513, 'doubtful': 2514, 'shine': 2515, 'polish': 2516, 'tier': 2517, 'maximized': 2518, 'pitched': 2519, 'wrap': 2520, 'spotted': 2521, 'cooke': 2522, 'four': 2523, 'including': 2524, 'returns': 2525, 'referrals': 2526, 'drawback': 2527, 'include': 2528, 'exploring': 2529, 'alternative': 2530, 'courses': 2531, 'encouraging': 2532, 'took': 2533, 'liaised': 2534, 'unknown': 2535, 'arguably': 2536, 'wider': 2537, 'vision': 2538, 'pursue': 2539, 'subjects': 2540, 'perspective': 2541, 'gunner': 2542, 'rates': 2543, 'normally': 2544, 'scale': 2545, 'uses': 2546, 'advantage': 2547, 'budget': 2548, 'policies': 2549, 'procedures': 2550, 'innovative': 2551, 'memory': 2552, 'stuff': 2553, 'effectiveness': 2554, 'aryanna': 2555, 'terminated': 2556, 'immediately': 2557, 'preform': 2558, 'painstaking': 2559, 'fewer': 2560, 'rounds': 2561, 'revisions': 2562, 'barnes': 2563, 'observe': 2564, 'creativeness': 2565, 'reflected': 2566, 'shot': 2567, 'coachable': 2568, 'favorite': 2569, 'cleveland': 2570, 'extraordinary': 2571, 'praise': 2572, 'anywhere': 2573, 'please': 2574, 'maintained': 2575, 'analyzing': 2576, 'tracking': 2577, 'tires': 2578, 'sofia': 2579, 'replaceable': 2580, 'net': 2581, 'award': 2582, 'deserving': 2583, 'smashes': 2584, 'climb': 2585, 'hipos': 2586, 'pipeline': 2587, 'model': 2588, 'seldom': 2589, 'solve': 2590, 'unique': 2591, 'experiment': 2592, 'tools': 2593, 'technologies': 2594, 'fruitful': 2595, 'patience': 2596, 'foot': 2597, 'allows': 2598, 'discuss': 2599, 'stage': 2600, 'mean': 2601, 'queue': 2602, 'agreement': 2603, 'interact': 2604, 'liked': 2605, 'trainer': 2606, 'students': 2607, '110': 2608, 'rising': 2609, 'target': 2610, '72': 2611, 'massively': 2612, 'win': 2613, 'summer': 2614, 'bonanza': 2615, 'announce': 2616, 'appointment': 2617, 'hot': 2618, 'queries': 2619, 'lets': 2620, 'footsteps': 2621, 'achievement': 2622, 'prior': 2623, 'permanent': 2624, 'substantial': 2625, 'beaten': 2626, 'closely': 2627, 'trusting': 2628, 'decisions': 2629, 'shortcomings': 2630, 'word': 2631, 'old': 2632, 'blue': 2633, 'collar': 2634, 'indicate': 2635, 'investing': 2636, 'earlier': 2637, 'retain': 2638, 'metrics': 2639, 'demeanor': 2640, 'kayleigh': 2641, 'moves': 2642, 'placed': 2643, 'correctly': 2644, 'spending': 2645, 'stanley': 2646, 'knew': 2647, 'lunches': 2648, 'dressed': 2649, 'accordingly': 2650, 'happened': 2651, '15': 2652, '+': 2653, 'unacceptable': 2654, 'satisfaction': 2655, 'parse': 2656, 'nuances': 2657, 'exeptional': 2658, 'outset': 2659, 'communicate': 2660, 'events': 2661, 'benefits': 2662, 'beginning': 2663, 'ethics': 2664, 'tailors': 2665, 'humble': 2666, 'receptive': 2667, 'incorporating': 2668, 'relatively': 2669, 'usefull': 2670, 'dropping': 2671, 'compiling': 2672, 'fall': 2673, 'timeliness': 2674, 'coordination': 2675, 'slacked': 2676, 'situations': 2677, 'menial': 2678, 'editing': 2679, 'rushes': 2680, 'emphasized': 2681, 'functions': 2682, 'paperwork': 2683, 'superiors': 2684, 'rally': 2685, 'common': 2686, 'risky': 2687, 'sorry': 2688, 'hiring': 2689, 'except': 2690, 'firing': 2691, 'hesitate': 2692, 'arises': 2693, 'adaptability': 2694, 'jade': 2695, 'holds': 2696, 'price': 2697, 'happen': 2698, 'collaboration': 2699, 'lost': 2700, 'trys': 2701, 'hardest': 2702, 'scores': 2703, 'barriers': 2704, 'marc': 2705, 'listening': 2706, 'using': 2707, 'objective': 2708, 'language': 2709, 'session': 2710, 'notes': 2711, 'therapy': 2712, 'sessions': 2713, 'kids': 2714, 'children': 2715, 'playing': 2716, 'protocols': 2717, 'c': 2718, 'convinced': 2719, 'process': 2720, 'minded': 2721, 'risen': 2722, 'lazy': 2723, 'unmotivated': 2724, 'hamilton': 2725, 'avoided': 2726, 'identifying': 2727, 'strategic': 2728, 'operational': 2729, 'unpaid': 2730, 'polite': 2731, 'complexity': 2732, 'relates': 2733, 'eligibility': 2734, 'boy': 2735, 'grades': 2736, '\\r ': 2737, 'fulfills': 2738, 'depends': 2739, 'subject': 2740, 'deepen': 2741, 'concentrated': 2742, 'studying': 2743, 'campus': 2744, 'held': 2745, 'laziness': 2746, 'sad': 2747, 'hear': 2748, 'relevant': 2749, 'studies': 2750, 'dixon': 2751, 'touch': 2752, 'approaches': 2753, 'counterargument': 2754, 'gracious': 2755, 'overseeing': 2756, 'interns': 2757, 'possesses': 2758, 'raw': 2759, 'prominent': 2760, 'esmerelda': 2761, 'remarkable': 2762, 'displays': 2763, 'atmosphere': 2764, 'methodical': 2765, 'condition': 2766, 'envision': 2767, '--': 2768, 'necessarily': 2769, 'aboard': 2770, 'fairness': 2771, 'upward': 2772, 'mobility': 2773, 'admire': 2774, 'operate': 2775, 'perfors': 2776, 'extent': 2777, 'sadly': 2778, 'median': 2779, 'andy': 2780, 'kennedy': 2781, 'rewarding': 2782, 'outcome': 2783, 'prefectisium': 2784, 'optimistic': 2785, 'concentrate': 2786, 'usable': 2787, 'concepts': 2788, 'isabella': 2789, 'james': 2790, 'handles': 2791, 'individually': 2792, 'interfere': 2793, 'voice': 2794, 'heard': 2795, 'affect': 2796, 'fortunate': 2797, 'boon': 2798, 'billy': 2799, 'appraisal': 2800, 'numerous': 2801, 'independent': 2802, 'decision': 2803, 'wishes': 2804, 'harsh': 2805, 'proving': 2806, 'passing': 2807, 'liability': 2808, 'helped': 2809, 'besides': 2810, 'added': 2811, 'elements': 2812, 'deliverable': 2813, 'original': 2814, 'specifications': 2815, 'enhanced': 2816, 'avoidable': 2817, 'keen': 2818, 'participating': 2819, 'attentive': 2820, 'standing': 2821, 'saw': 2822, 'positivity': 2823, 'carroll': 2824, 'write': 2825, 'glowing': 2826, 'fear': 2827, 'jest': 2828, 'unparalleled': 2829, 'infectious': 2830, 'ceo': 2831, 'exposure': 2832, 'cain': 2833, 'ray': 2834, 'sunshine': 2835, 'percent': 2836, 'likes': 2837, 'liking': 2838, 'thursday': 2839, 'floor': 2840, 'bind': 2841, 'drop': 2842, 'stretched': 2843, 'covering': 2844, 'changed': 2845, 'handling': 2846, 'instant': 2847, 'messaging': 2848, 'text': 2849, 'messages': 2850, 'incomplete': 2851, 'secretary': 2852, '.eventhough': 2853, 'sincerely': 2854, 'curve': 2855, 'modeled': 2856, 'chandler': 2857, 'spotter': 2858, 'challenger': 2859, 'collaborator': 2860, '80': 2861, 'weaknesses': 2862, 'multiply': 2863, 'vital': 2864, 'hierarchy': 2865, 'rushed': 2866, 'grasping': 2867, 'projects-': 2868, 'rush': 2869, 'reduces': 2870, 'though-': 2871, 'ben': 2872, 'blazes': 2873, 'enthusiastic': 2874, 'flip': 2875, 'venture': 2876, 'prescribed': 2877, 'naysayer': 2878, 'scott': 2879, 'valid': 2880, 'email': 2881, 'notification': 2882, 'underwhelming': 2883, 'reccomend': 2884, 'exemplar': 2885, 'alongside': 2886, 'showcases': 2887, 'bay': 2888, 'warnings': 2889, 'upto': 2890, 'thoughts': 2891, 'equation': 2892, 'answer': 2893, 'fortunately': 2894, 'bootcamp': 2895, 'disability': 2896, 'gained': 2897, 'outwork': 2898, 'outlast': 2899, 'faster': 2900, 'lloyd': 2901, 'systems': 2902, 'analytics': 2903, 'march': 2904, 'modere': 2905, 'foundational': 2906, 'built': 2907, 'hourly': 2908, 'rounded': 2909, 'complains': 2910, 'executes': 2911, 'flawlessly': 2912, 'figure': 2913, 'resolves': 2914, 'terrell': 2915, 'cultivate': 2916, 'disappointment': 2917, 'unclear': 2918, 'course': 2919, 'status': 2920, 'updates': 2921, 'ignored': 2922, 'edits': 2923, 'suggested': 2924, 'representative': 2925, 'responsible': 2926, 'answered': 2927, 'attended': 2928, 'tickets': 2929, 'seemed': 2930, 'database': 2931, 'kidd': 2932, 'older': 2933, 'lawson': 2934, 'percentage': 2935, 'spend': 2936, 'shadowing': 2937, 'bill': 2938, 'fry': 2939, 'engineering': 2940, 'insight': 2941, 'deployment': 2942, 'configuration': 2943, 'ii': 2944, 'looks': 2945, 'briley': 2946, 'ropes': 2947, 'package': 2948, 'generated': 2949, 'computational': 2950, 'enrolled': 2951, 'carry': 2952, 'amply': 2953, 'wanting': 2954, 'spots': 2955, 'slack': 2956, 'ensuring': 2957, 'falls': 2958, 'trainings': 2959, 'continuous': 2960, 'unmotivaed': 2961, 'activley': 2962, 'competing': 2963, 'assign': 2964, 'skirts': 2965, 'relies': 2966, 'portions': 2967, 'paragraph': 2968, 'plagiarized': 2969, 'anticipated': 2970, 'strategy': 2971, 'loss': 2972, 'statistics': 2973, 'profitability': 2974, 'plans': 2975, 'paralegal': 2976, 'distinguishable': 2977, 'instance': 2978, 'templates': 2979, 'fixed': 2980, 'frank': 2981, 'deteriorated': 2982, 'student': 2983, 'mcmillan': 2984, 'rated': 2985, 'stylish': 2986, 'entrust': 2987, 'grand': 2988, 'onto': 2989, 'hopes': 2990, 'embrace': 2991, 'conner': 2992, 'mcintyre': 2993, 'cohen': 2994, 'liable': 2995, 'impact': 2996, 'foreseeable': 2997, 'laziest': 2998, 'displeasure': 2999, 'lies': 3000, 'stamp': 3001, 'texts': 3002, 'talks': 3003, 'peoples': 3004, 'backs': 3005, 'blink': 3006, 'removal': 3007, 'harnessing': 3008, 'inner': 3009, 'guru': 3010, 'wing': 3011, 'properly': 3012, 'shining': 3013, 'geroge': 3014, 'devotion': 3015, 'ascend': 3016, 'hesitation': 3017, 'feedbacks': 3018, 'validation': 3019, 'excellency': 3020, 'reluctance': 3021, 'begin': 3022, 'moods': 3023, 'across': 3024, 'money': 3025, \"'em\": 3026, 'dark': 3027, 'horse': 3028, 'lose': 3029, 'repeating': 3030, 'perfectly': 3031, 'analyst': 3032, 'accordance': 3033, 'resulted': 3034, 'rework': 3035, 'created': 3036, 'toxic': 3037, 'concluded': 3038, 'finlay': 3039, '3rd': 3040, 'dress': 3041, 'code': 3042, 'scheduled': 3043, 'hostile': 3044, 'assume': 3045, 'fired': 3046, 'exhibit': 3047, 'dead': 3048, 'exerted': 3049, 'adjusted': 3050, 'fitting': 3051, 'stride': 3052, 'immensely': 3053, 'steep': 3054, 'cognizant': 3055, 'corrects': 3056, 'ordeals': 3057, 'defense': 3058, 'opposing': 3059, 'players': 3060, 'exploit': 3061, 'buckets': 3062, 'digits': 3063, 'offense': 3064, 'scorer': 3065, 'dictates': 3066, 'option': 3067, 'scoring': 3068, 'trained': 3069, 'lauren': 3070, 'worthy': 3071, 'coupling': 3072, 'preferences': 3073, 'deteriorating': 3074, 'underachiever': 3075, 'lucky': 3076, 'calling': 3077, 'shifts': 3078, 'waitress': 3079, 'refuses': 3080, 'hey': 3081, 'steadily': 3082, 'harrison': 3083, '5': 3084, 'exceptions': 3085, 'depth': 3086, 'depended': 3087, 'complicated': 3088, 'acts': 3089, 'amiable': 3090, 'reviewed': 3091, 'edited': 3092, 'glosses': 3093, 'rees': 3094, 'intuitive': 3095, 'insightful': 3096, 'decreased': 3097, 'wander': 3098, 'influence': 3099, 'road': 3100, 'knowing': 3101, 'trumps': 3102, 'breadth': 3103, 'evans': 3104, 'appreciable': 3105, 'deficient': 3106, 'document': 3107, 'comply': 3108, 'entrusted': 3109, 'observed': 3110, 'ship': 3111, 'documented': 3112, 'occurred': 3113, 'documentation': 3114, 'via': 3115, 'jaden': 3116, 'spotting': 3117, 'default': 3118, 'displaying': 3119, 'book': 3120, 'pays': 3121, 'resolve': 3122, 'insignificant': 3123, 'unaddressed': 3124, 'byers': 3125, 'appearance': 3126, 'account': 3127, 'meantime': 3128, 'exceeding': 3129, 'rigorous': 3130, 'looked': 3131, 'to€\\x9dperhaps': 3132, 'driven': 3133, 'sight': 3134, 'bethany': 3135, 'cunningham': 3136, 'pride': 3137, 'phenomenal': 3138, 'vague': 3139, 'ingenious': 3140, 'goofing': 3141, 'intentions': 3142, 'perfecting': 3143, 'optimal': 3144, 'resilience': 3145, 'slipping': 3146, 'issued': 3147, 'user': 3148, 'interface': 3149, 'bugs': 3150, 'operated': 3151, 'types': 3152, 'website': 3153, 'mobile': 3154, 'app': 3155, 'store': 3156, 'machines': 3157, 'remain': 3158, 'crew': 3159, 'concerns': 3160, 'internalize': 3161, 'feet': 3162, 'ground': 3163, 'locations': 3164, 'wokrkini': 3165, 'neesds': 3166, 'ot': 3167, 'wokr': 3168, 'impessed': 3169, 'fred': 3170, 'called': 3171, 'infrastructure': 3172, 'untill': 3173, 'powerhouse': 3174, 'whiz': 3175, 'update': 3176, 'halting': 3177, 'send': 3178, 'delight': 3179, 'rebecca': 3180, 'grasp': 3181, 'function': 3182, 'deeper': 3183, 'inasmuch': 3184, 'sharing': 3185, 'serve': 3186, 'tips': 3187, 'topics': 3188, 'analyzed': 3189, 'proofreads': 3190, 'contain': 3191, 'tiny': 3192, 'noticeable': 3193, 'periods': 3194, 'spaces': 3195, 'avail': 3196, 'blow': 3197, 'water': 3198, 'plow': 3199, '12': 3200, 'trusty': 3201, 'judgment': 3202, 'recognized': 3203, 'flashed': 3204, 'possibility': 3205, 'enterprise': 3206, 'whitfield': 3207, 'revising': 3208, 'slowing': 3209, 'pressured': 3210, 'qualified': 3211, 'fill': 3212, 'resumes': 3213, 'welcome': 3214, 'questionable': 3215, 'serves': 3216, 'distraction': 3217, 'decreases': 3218, 'behave': 3219, 'maturely': 3220, 'mindful': 3221, 'till': 3222, 'mission': 3223, 'charting': 3224, 'critically': 3225, 'sought': 3226, 'gifted': 3227, 'actors': 3228, 'tirelessly': 3229, 'grown': 3230, 'tremendously': 3231, 'patricia': 3232, 'accelerate': 3233, 'wholly': 3234, 'whilst': 3235, 'contemporaries': 3236, 'innates': 3237, 'speeches': 3238, 'supervised': 3239, 'incentive': 3240, 'ignite': 3241, 'disruptive': 3242, 'browsing': 3243, 'internet': 3244, 'hinder': 3245, 'generate': 3246, 'enhance': 3247, 'gibson': 3248, 'awesome': 3249, 'totally': 3250, 'michael': 3251, 'murphy': 3252, 'argument': 3253, 'reviews': 3254, 'handful': 3255, 'patchy': 3256, 'striving': 3257, 'kinetic': 3258, 'fluidity': 3259, 'knowledgeable': 3260, 'earmark': 3261, 'calm': 3262, 'exacting': 3263, 'ends': 3264, 'questioning': 3265, 'sabotaged': 3266, 'causing': 3267, 'host': 3268, 'message': 3269, 'markets.he': 3270, 'substantially': 3271, 'lateral': 3272, 'upwards': 3273, 'burnout': 3274, 'executed': 3275, 'scholarship': 3276, 'brilliant': 3277, 'engineer': 3278, 'university': 3279, 'corridors': 3280, 'loyal': 3281, 'junior': 3282, 'hughes': 3283, 'reveals': 3284, 'glimmering': 3285, 'ross': 3286, 'conviction': 3287, 'precise': 3288, 'recognition': 3289, 'believed': 3290, 'perfomance': 3291, 'automated': 3292, 'weekly': 3293, 'prem': 3294, 'cloud': 3295, 'network': 3296, 'trigger': 3297, 'stakeholders': 3298, '30000': 3299, 'usd': 3300, 'web': 3301, 'programming': 3302, 'combined': 3303, 'unstoppable': 3304, 'anymore': 3305, 'cross': 3306, 'functional': 3307, 'hesitates': 3308, 'views': 3309, 'known': 3310, 'visibility': 3311, 'grade': 3312, 'delegating': 3313, 'standpoint': 3314, 'efficency': 3315, 'perseveres': 3316, 'considered': 3317, 'deep': 3318, 'embodies': 3319, 'climbing': 3320, 'fixes': 3321, 'stafford': 3322, 'quarterback': 3323, 'opinions': 3324, 'interactions': 3325, 'slim': 3326, 'boldness': 3327, 'limitation': 3328, 'hindrance': 3329, 'finely': 3330, 'dirty': 3331, 'doesnã¢â‚¬â„¢t': 3332, 'practices': 3333, 'operations': 3334, 'requirement': 3335, 'offering': 3336, 'integral': 3337, 'dutiful': 3338, 'filings': 3339, 'courthouse': 3340, 'clerk': 3341, 'closed': 3342, 'child': 3343, 'suffering': 3344, 'chronic': 3345, 'disorder': 3346, 'sapping': 3347, 'courier': 3348, 'habit': 3349, 'similar': 3350, 'solidly': 3351, 'streaky': 3352, 'fanbase': 3353, 'carrying': 3354, 'wildly': 3355, 'mlb': 3356, 'caliber': 3357, 'picking': 3358, 'outgoing': 3359, 'playmaker': 3360, 'shoot': 3361, 'rotation': 3362, 'prevent': 3363, 'hazard': 3364, 'employed': 3365, 'hate': 3366, 'basically': 3367, 'mcknight': 3368, 'recent': 3369, 'updated': 3370, 'light': 3371, 'inching': 3372, 'latter': 3373, 'actual': 3374, 'implementation': 3375, 'reminders': 3376, 'strikingly': 3377, 'accepted': 3378, 'recognize': 3379, 'implore': 3380, 'invigorate': 3381, 'dawson': 3382, 'unwillingness': 3383, 'restroom': 3384, 'walking': 3385, 'distract': 3386, 'aforementioned': 3387, 'recommending': 3388, 'socializing': 3389, 'adequately': 3390, 'equates': 3391, 'skilful': 3392, 'fan': 3393, 'hoped': 3394, 'background': 3395, 'qualifies': 3396, 'houghtan': 3397, 'influential': 3398, 'shoes': 3399, 'sharpness': 3400, 'purposes': 3401, 'radiantly': 3402, 'structural': 3403, 'choices': 3404, 'mine': 3405, 'maxed': 3406, 'round': 3407, 'argues': 3408, 'disrespectful': 3409, 'consideration': 3410, 'drove': 3411, '...': 3412, 'companies': 3413, 'somebody': 3414, 'sacrifice': 3415, 'odd': 3416, 'case': 3417, 'storm': 3418, 'character': 3419, 'mastered': 3420, 'direct': 3421, 'address': 3422, 'flu': 3423, 'isolated': 3424, 'tomorrow': 3425, 'receiving': 3426, 'notable': 3427, 'scientific': 3428, 'astronomy': 3429, 'exciting': 3430, 'jim': 3431, 'studied': 3432, 'hi': 3433, 'artist': 3434, 'sings': 3435, 'dances': 3436, 'art': 3437, 'acting': 3438, 'tv': 3439, 'series': 3440, 'sphere': 3441, 'uptick': 3442, 'searching': 3443, 'probation': 3444, 'suspicious': 3445, 'substance': 3446, 'abuse': 3447, 'rolled': 3448, 'bed': 3449, 'locks': 3450, 'door': 3451, 'surfaces': 3452, 'refill': 3453, 'coffee': 3454, 'cup': 3455, 'erratic': 3456, 'security': 3457, 'card': 3458, '18': 3459, 'weekend': 3460, 'presumably': 3461, 'drug': 3462, 'craft': 3463, 'typical': 3464, 'terell': 3465, 'introductory': 3466, 'requiring': 3467, 'agility': 3468, 'shies': 3469, 'preference': 3470, 'predict': 3471, 'volumes': 3472, 'regional': 3473, 'surprise': 3474, 'virtually': 3475, 'scene': 3476, 'nathan': 3477, 'flexible': 3478, 'supports': 3479, 'colloborative': 3480, 'approachable': 3481, 'variations': 3482, 'rule': 3483, 'innovatively': 3484, 'listener': 3485, 'teamworkâ€': 3486, '™': 3487, 'margin': 3488, 'profits': 3489, 'unprepared': 3490, 'refer': 3491, 'intern': 3492, 'resisted': 3493, 'human': 3494, 'heidi': 3495, 'habits': 3496, 'dismal': 3497, 'generating': 3498, 'participates': 3499, 'betterment': 3500, 'machine': 3501, 'welcomes': 3502, 'jackson': 3503, 'beneficial': 3504, 'reflective': 3505, 'collaborate': 3506, 'navigate': 3507, 'sticky': 3508, 'legal': 3509, 'versed': 3510, 'statues': 3511, 'codes': 3512, 'inform': 3513, 'piece': 3514, 'juniors': 3515, 'words': 3516, 'incompetent': 3517, 'smells': 3518, 'guidelines': 3519, 'mostly': 3520, 'fourth': 3521, 'eighth': 3522, 'markups': 3523, 'thoughtful': 3524, 'dull': 3525, 'smile': 3526, 'delay': 3527, 'workspace': 3528, 'upbeat': 3529, 'engaging': 3530, 'luster': 3531, 'puzzle': 3532, 'uphold': 3533, 'length': 3534, 'zoned': 3535, 'naturally': 3536, 'bubbly': 3537, 'workdays': 3538, 'property': 3539, 'maximize': 3540, 'arithmetic': 3541, 'engages': 3542, 'unsure': 3543, 'accounting': 3544, 'apologized': 3545, 'tax': 3546, 'prone': 3547, 'written': 3548, 'unfinished': 3549, 'slowed': 3550, 'crossed': 3551, 'nurtured': 3552, 'regularity': 3553, 'amoy': 3554, 'matter': 3555, 'receptionist': 3556, 'clock': 3557, 'score': 3558, 'semester': 3559, 'ups': 3560, 'downs': 3561, 'gamble': 3562, 'revise': 3563, 'sharper': 3564, 'correction': 3565, 'gt': 3566, 'distaste': 3567, 'micheal': 3568, 'kuar': 3569, 'slip': 3570, 'cracks': 3571, 'and/or': 3572, 'fickle': 3573, 'unprofessional': 3574, 'seniors': 3575, 'spite': 3576, 'guided': 3577, 'offish': 3578, 'submissions': 3579, 'decreasing': 3580, 'laid': 3581, \"it't\": 3582, 'history': 3583, 'experiences': 3584, 'entirely': 3585, 'impacted': 3586, 'approaching': 3587, 'impacts': 3588, 'impression': 3589, 'shaky': 3590, 'recall': 3591, 'cranked': 3592, 'incisiveness': 3593, 'whatsoever': 3594, 'procrastination': 3595, 'committing': 3596, 'drag': 3597, 'activites': 3598, 'developmental': 3599, 'increasing': 3600, 'worried': 3601, 'risks': 3602, 'six': 3603, 'fruition': 3604, 'acquired': 3605, 'russell': 3606, 'pleasantly': 3607, 'glued': 3608, 'ellis': 3609, 'delaying': 3610, 'games': 3611, 'prompt': 3612, 'cutting': 3613, 'edge': 3614, 'prospects': 3615, 'facing': 3616, 'remarkable-': 3617, 'triple': 3618, 'concise': 3619, 'goodies': 3620, 'bakes': 3621, 'compare': 3622, 'rockstar': 3623, 'catches': 3624, 'smallest': 3625, 'nit': 3626, 'picky': 3627, 'saves': 3628, 'vowed': 3629, 'smooths': 3630, 'edges': 3631, 'prime': 3632, 'latest': 3633, 'shore': 3634, 'deficiencies': 3635, 'secondly': 3636, 'undergo': 3637, 'inorder': 3638, 'doe': 3639, 'carr': 3640, 'sells': 3641, 'maintenance': 3642, 'providing': 3643, 'appliances': 3644, 'persistent': 3645, 'demeanour': 3646, 'overarching': 3647, 'spectacular': 3648, 'awarded': 3649, 'martin': 3650, 'extension': 3651, '\\t ': 3652, 'delays': 3653, 'hosting': 3654, 'augment': 3655, 'facets': 3656, 'factors': 3657, 'limiting': 3658, 'graciously': 3659, 'therefor': 3660, 'commend': 3661, 'grace': 3662, 'miss': 3663, 'lengthy': 3664, 'dipped': 3665, 'thorn': 3666, 'integrated': 3667, 'began': 3668, 'settles': 3669, 'importantly': 3670, 'applying': 3671, '.he': 3672, 'wavering': 3673, 'ethic-': 3674, 'charts': 3675, 'stricter': 3676, 'flawed': 3677, 'evidence': 3678, 'selected': 3679, 'implemented': 3680, 'adopted': 3681, 'wide': 3682, 'employ': 3683, 'hunt': 3684, 'credit': 3685, 'settle': 3686, 'negatively': 3687, 'affects': 3688, 'groups': 3689, 'acheive': 3690, 'enable': 3691, 'ensures': 3692, 'suggests': 3693, 'ethnic': 3694, 'super': 3695, 'regret': 3696, 'e': 3697, 'mail': 3698, 'donovan': 3699, 'avoiding': 3700, 'cited': 3701, 'trudge': 3702, 'hires': 3703, 'practically': 3704, 'ha': 3705, 'fresh': 3706, 'blood': 3707, 'organizing': 3708, 'spreadsheets': 3709, 'listed': 3710, 'inspired': 3711, 'shame': 3712, 'waves': 3713, 'pattern': 3714, 'resourceful': 3715, 'fundamental': 3716, 'resulting': 3717, 'attentiveness': 3718, 'exemplified': 3719, 'selfless': 3720, 'donuts': 3721, 'bottlenecks': 3722, 'flow': 3723, 'spellchecks': 3724, 'shrugged': 3725, 'responses': 3726, 'hindered': 3727, 'explanation': 3728, 'depending': 3729, 'allotted': 3730, 'appealing': 3731, 'audience': 3732, 'taker': 3733, 'initiates': 3734, 'waits': 3735, 'assigns': 3736, 'professionalism': 3737, 'softening': 3738, 'gun': 3739, 'fraction': 3740, 'progresses': 3741, 'diploma': 3742, 'academic': 3743, 'law': 3744, 'batch': 3745, 'disregarded': 3746, 'third': 3747, 'underdeveloped': 3748, '11': 3749, '13': 3750, 'motions': 3751, 'summary': 3752, 'included': 3753, 'motion': 3754, 'lone': 3755, 'wolf': 3756, 'preferring': 3757, 'dispassionate': 3758, 'partnership': 3759, 'correlate': 3760, 'formulas': 3761, 'incorrectly': 3762, 'nails': 3763, 'literally': 3764, 'nad': 3765, 'sentiments': 3766, 'vp': 3767, 'beautifully': 3768, 'williams': 3769, 'sunny': 3770, 'impossible': 3771, 'turnaround': 3772, 'tackles': 3773, 'overlooks': 3774, 'pressed': 3775, 'unrealistic': 3776, 'meticulous': 3777, 'linchpin': 3778, 'coding': 3779, 'promoting': 3780, 'mathews': 3781, 'terrific': 3782, 'p1': 3783, 'relative': 3784, 'introduced': 3785, 'p2': 3786, 'iron': 3787, 'kinks': 3788, 'focuses': 3789, 'grey': 3790, 'letter': 3791, 'jobless': 3792, 'shape': 3793, 'deems': 3794, 'perfectionist': 3795, '<UNK>': 1}\n",
      "LEXICON SAMPLE (3795 total items):\n",
      "{'john': 2, 'progressed': 3, 'position': 4, '.': 5, 'continuously': 6, 'late': 7, ',': 8, 'leaves': 9, 'early': 10, 'takes': 11, 'many': 12, 'breaks': 13, 'throughout': 14, 'day': 15, 'calls': 16, 'least': 17, 'every': 18, 'week': 19, \"'s\": 20, 'always': 21}\n"
     ]
    }
   ],
   "source": [
    "'''Count tokens (words) in texts and add them to the lexicon'''\n",
    "\n",
    "import pickle\n",
    "\n",
    "def make_lexicon(token_seqs, min_freq, use_padding=False):\n",
    "    # First, count how often each word appears in the text. Save this count in a dictionary called token_counts\n",
    "    token_counts = {}\n",
    "    for text in token_seqs:\n",
    "      for token in text:\n",
    "        if token in token_counts:\n",
    "          token_counts[token] += 1\n",
    "        else:\n",
    "          token_counts[token] = 1\n",
    "  \n",
    "    # Then, assign each word to a numerical index, i.e save  all these words in a list. Filter words that occur less than or equal to min_freq times.\n",
    "    \n",
    "    lexicon = [token for token, _ in token_counts.items() if token_counts[token] >= min_freq]\n",
    "    \n",
    "    #create a dictionary lexicon that maps each word to its index. Note that indexes will start from 2,  index 0 is saved for padding and index 1 for unknown words ('<UNK>')\n",
    "    lexicon = {token:index+2 for index, token in enumerate(lexicon)}\n",
    "    \n",
    "    lexicon[u'<UNK>'] = 1 # Unknown words are those that occur fewer than min_freq times\n",
    "    lexicon_size = len(lexicon)\n",
    "    print(lexicon)\n",
    "\n",
    "    print(\"LEXICON SAMPLE ({} total items):\".format(lexicon_size))\n",
    "    print(dict(list(lexicon.items())[:20]))\n",
    "    \n",
    "    return lexicon\n",
    "\n",
    "lexicon = make_lexicon(token_seqs=train_reviews['Tokenized_Review'], min_freq=1)"
   ]
  },
  {
   "cell_type": "code",
   "execution_count": 20,
   "metadata": {},
   "outputs": [
    {
     "data": {
      "text/plain": [
       "3795"
      ]
     },
     "execution_count": 20,
     "metadata": {},
     "output_type": "execute_result"
    }
   ],
   "source": [
    "len(lexicon)"
   ]
  },
  {
   "cell_type": "code",
   "execution_count": null,
   "metadata": {
    "colab": {
     "base_uri": "https://localhost:8080/",
     "height": 363
    },
    "id": "6ClxwJxazi0-",
    "outputId": "8790a2ef-7cb9-4ad0-9fe6-4a40935859c8"
   },
   "outputs": [],
   "source": [
    "'''Convert each review from a list of tokens to a list of numbers (indices)'''\n",
    "\n",
    "def tokens_to_idxs(token_seqs, lexicon): \n",
    "    #complete this function to return a list of indexed tokens \n",
    "    idx_seqs = [[lexicon[token] if token in lexicon else lexicon['<UNK>'] for token in text] for text in token_seqs]\n",
    "    return idx_seqs\n",
    "\n",
    "train_reviews['Review_Idxs'] = tokens_to_idxs(token_seqs=train_reviews['Tokenized_Review'], lexicon=lexicon)\n",
    "                                   \n",
    "train_reviews[['Tokenized_Review', 'Review_Idxs']][:10]"
   ]
  },
  {
   "cell_type": "code",
   "execution_count": null,
   "metadata": {
    "colab": {
     "base_uri": "https://localhost:8080/",
     "height": 597
    },
    "id": "hC3TLl8tzi0_",
    "outputId": "2b287655-39a4-46d4-e0b7-8c61260c69b2"
   },
   "outputs": [],
   "source": [
    "'''Encode reviews (train_reviews['Review_Idxs']) as bag-of-words vectors'''\n",
    "\n",
    "import numpy \n",
    "\n",
    "def idx_seqs_to_bows(idx_seqs, matrix_length):\n",
    "    #complete the function to return an array having bag-of-words vectors of the encoded reviews\n",
    "    # hint: numpy.bincount()\n",
    "    bow_seqs = numpy.array([numpy.bincount(numpy.array(seq), minlength = matrix_length) \n",
    "                            for seq in idx_seqs])\n",
    "    return bow_seqs\n",
    "    \n",
    "\n",
    "bow_train_reviews = idx_seqs_to_bows(train_reviews['Review_Idxs'], \n",
    "                                     matrix_length=len(lexicon) + 1) #add one to length for padding)\n",
    "\n",
    "print(\"TRAIN INPUT:\\n\", bow_train_reviews)\n",
    "print(\"SHAPE:\", bow_train_reviews.shape, \"\\n\")\n",
    "\n",
    "#Showing an example mapping string words to counts\n",
    "lexicon_lookup = {idx: lexicon_item for lexicon_item, idx in lexicon.items()}\n",
    "lexicon_lookup[0] = \"\"\n",
    "pd.DataFrame([(lexicon_lookup[idx], count) for idx, count in enumerate(bow_train_reviews[0])], \n",
    "                 columns=['Word', 'Count'])"
   ]
  },
  {
   "cell_type": "code",
   "execution_count": null,
   "metadata": {
    "colab": {
     "base_uri": "https://localhost:8080/"
    },
    "id": "cNOyGqjPzi0_",
    "outputId": "f7e65ad0-8d6c-44aa-c887-c7b94465e404"
   },
   "outputs": [],
   "source": [
    "from tensorflow.keras.preprocessing.sequence import pad_sequences\n",
    "max_seq_len = max([len(seq) for seq in train_reviews['Review_Idxs']])\n",
    "def pad_idx_seqs(idx_seqs, length):\n",
    "    \n",
    "    #find the biggest review's length and save it in the variable below \n",
    "    #pad all these indexed reviews and return these padded sequences\n",
    "    #HINT: use pad_sequences function by keras\n",
    "    padded_seq = pad_sequences(sequences = idx_seqs, maxlen = length)\n",
    "    return padded_seq\n",
    "\n",
    "train_padded_idxs = pad_idx_seqs(train_reviews['Review_Idxs'],max_seq_len)\n",
    "\n",
    "print(\"TRAIN INPUT:\\n\", train_padded_idxs)\n",
    "print(\"SHAPE:\", train_padded_idxs.shape, \"\\n\")"
   ]
  },
  {
   "cell_type": "code",
   "execution_count": null,
   "metadata": {},
   "outputs": [],
   "source": [
    "len(train_sentiment)"
   ]
  },
  {
   "cell_type": "raw",
   "metadata": {},
   "source": []
  },
  {
   "cell_type": "code",
   "execution_count": null,
   "metadata": {
    "id": "azogBzbuzi1A"
   },
   "outputs": [],
   "source": [
    "'''Create the model'''\n",
    "# train_sentiment = pd.get_dummies(train_sentiment['nine_box_category']).values\n",
    "# train_senti_tensor = tf.convert_to_tensor(train_sentiment.values, dtype = np.int64)\n",
    "# y_train = to_categorical(y_train, 3)\n",
    "# y_test = to_categorical(y_test, 3)\n",
    "\n",
    "import tensorflow as tf\n",
    "from tensorflow.keras import layers\n",
    "from tensorflow.keras import Input, Model\n",
    "from tensorflow.keras.layers import Embedding\n",
    "from tensorflow.keras.layers import GRU, Dense\n",
    "from tensorflow.keras.layers import InputLayer\n",
    "from keras.models import Sequential\n",
    "from keras.layers import Dense, Embedding, LSTM, SpatialDropout1D\n",
    "from keras.callbacks import EarlyStopping\n",
    "\n",
    "\n",
    "def create_rnn_model(MAX_NB_WORDS, EMBEDDING_DIM, length):\n",
    "    \n",
    "    #complete this function to create a model and compile it having the 4 layers listed above.\n",
    "    #Note: Layer 1 -  Technically the shape of this layer is (batch_size, len(train_padded_idxs)).\n",
    "    # However, both the batch size and the length of the input matrix can be inferred from the input at training time. \n",
    "    # The batch size is implicitly included in the shape of the input, so it does not need to \n",
    "    # be specified as a dimension of the input. None can be given as placeholder for the input matrix length.\n",
    "    # By defining it as None, the model is flexible in accepting inputs with different lengths.\n",
    "\n",
    "    # define the model\n",
    "\n",
    "\n",
    "    model = Sequential()\n",
    "    model.add(Embedding(MAX_NB_WORDS, EMBEDDING_DIM, input_length=length))\n",
    "    model.add(SpatialDropout1D(0.2))\n",
    "    model.add(LSTM(500, dropout=0.2, recurrent_dropout=0.2))\n",
    "    model.add(Dense(9, activation='softmax'))\n",
    "    model.compile(loss='categorical_crossentropy', optimizer='adam', metrics=['accuracy'])\n",
    "\n",
    "    epochs = 20\n",
    "    batch_size = 64\n",
    "    model.summary()\n",
    "    history = model.fit(train_padded_idxs, train_sentiment, epochs=epochs, batch_size=batch_size,validation_split=0.1,callbacks=[EarlyStopping(monitor='val_loss', patience=3, min_delta=0.0001)])\n",
    "\n",
    "#     input_layer = Input(shape=(None,))\n",
    "    \n",
    "#     # Layer 2\n",
    "#     embedding_layer = Embedding(input_dim=n_input_nodes, output_dim=n_embedding_nodes, mask_zero=True)(input_layer)\n",
    "\n",
    "#     # Layer 3\n",
    "#     gru_layer = GRU(units = n_hidden_nodes)(embedding_layer)\n",
    "\n",
    "#     # Layer 4\n",
    "#     output_layer = Dense(units = 9)(gru_layer)\n",
    "\n",
    "#     #Specify which layers are input and output, compile model with loss and optimization functions\n",
    "#     model = Model(inputs=[input_layer], outputs=output_layer)\n",
    "#     model.compile(loss=\"mean_squared_error\", optimizer='adam')\n",
    "    return model\n",
    "\n"
   ]
  },
  {
   "cell_type": "code",
   "execution_count": null,
   "metadata": {
    "id": "V9QquMwIzi1A"
   },
   "outputs": [],
   "source": [
    "model = create_rnn_model(2000,100,max_seq_len)"
   ]
  },
  {
   "cell_type": "code",
   "execution_count": null,
   "metadata": {
    "colab": {
     "base_uri": "https://localhost:8080/"
    },
    "id": "sSeAxBvszi1B",
    "outputId": "39eb3764-6e12-4978-def1-da6f19154eb0"
   },
   "outputs": [],
   "source": [
    "# '''\n",
    "# Train the rnn_model using the padded sequences and y=train_reviews['Rating'].\n",
    "# You need  to convert train_reviews['Rating'] to tensor before passing it as an argument\n",
    "# Hint: tf.convert_to_tensor\n",
    "# batch_size=20, epochs=5\n",
    "# '''\n",
    "# train_senti_tensor = tf.convert_to_tensor(train_sentiment.values, dtype = np.int64)\n",
    "# rnn_model.fit(x=train_padded_idxs, y=train_senti_tensor, batch_size=20, epochs=5)"
   ]
  },
  {
   "cell_type": "code",
   "execution_count": null,
   "metadata": {
    "colab": {
     "base_uri": "https://localhost:8080/"
    },
    "id": "Ps9wqZlyzi1C",
    "outputId": "965023a6-f758-4556-cd1f-f9aa04f22fe1"
   },
   "outputs": [],
   "source": [
    "'''Put test reviews in padded matrix just how we did for train_reviews'''\n",
    "test_reviews['Tokenized_Review'] = text_to_tokens(test_reviews['feedback'])\n",
    "# lexicon_test = make_lexicon(token_seqs=test_reviews['Tokenized_Review'], min_freq=1)\n",
    "test_reviews['Review_Idxs'] = tokens_to_idxs(token_seqs=test_reviews['Tokenized_Review'], lexicon=lexicon)\n",
    "test_padded_idxs = pad_idx_seqs(test_reviews['Review_Idxs'],max_seq_len)\n",
    "\n",
    "print(\"TEST INPUT:\\n\", test_padded_idxs)\n",
    "print(\"SHAPE:\", test_padded_idxs.shape, \"\\n\")"
   ]
  },
  {
   "cell_type": "code",
   "execution_count": null,
   "metadata": {
    "id": "IwwCz7Mezi1C"
   },
   "outputs": [],
   "source": [
    "'''Predict the ratings '''\n",
    "\n",
    "#Since ratings are integers, need to round predicted rating to nearest integer\n",
    "test_reviews['RNN_Pred_Rating'] = numpy.round(model.predict(test_padded_idxs)[:,0]).astype(int)"
   ]
  },
  {
   "cell_type": "code",
   "execution_count": null,
   "metadata": {
    "colab": {
     "base_uri": "https://localhost:8080/"
    },
    "id": "c3XlAl5Dqq6Y",
    "outputId": "8d38c540-395c-4ca6-cbf4-656210f8b8d0"
   },
   "outputs": [],
   "source": [
    "test_reviews\n",
    "import sklearn\n",
    "accr = model.evaluate(test_padded_idxs,test_sentiment)\n",
    "# score = sklearn.metrics.accuracy_score(y_true = test_sentiment, y_pred = test_reviews['RNN_Pred_Rating'])\n"
   ]
  },
  {
   "cell_type": "code",
   "execution_count": null,
   "metadata": {
    "colab": {
     "base_uri": "https://localhost:8080/"
    },
    "id": "FZmfLkFWzi1C",
    "outputId": "763f3bd1-d4fc-4acd-fe89-6325a555a0e4"
   },
   "outputs": [],
   "source": [
    "# '''Evaluate the model with R^2'''\n",
    "\n",
    "# # print the r2 score\n",
    "# from sklearn.metrics import r2_score \n",
    "# final_score = r2_score(y_true = test_sentiment, y_pred = test_reviews['RNN_Pred_Rating'])\n",
    "# print(final_score)"
   ]
  },
  {
   "cell_type": "code",
   "execution_count": null,
   "metadata": {
    "colab": {
     "base_uri": "https://localhost:8080/"
    },
    "id": "7RUwhDuizi1D",
    "outputId": "48f4a024-c8b7-4938-d7fd-6cb3aa4ca7f7"
   },
   "outputs": [],
   "source": [
    "'''Showing the output of the RNN embedding layer (second layer) for the test reviews'''\n",
    "\n",
    "embedding_layer = Model(inputs=rnn_model.layers[0].input, \n",
    "                        outputs=rnn_model.layers[1].output) #embedding layer is 2nd layer (index 1)\n",
    "embedding_output = embedding_layer.predict(test_padded_idxs)\n",
    "print(\"EMBEDDING LAYER OUTPUT SHAPE:\", embedding_output.shape)\n",
    "print(embedding_output[0])"
   ]
  }
 ],
 "metadata": {
  "anaconda-cloud": {},
  "colab": {
   "collapsed_sections": [],
   "include_colab_link": true,
   "name": "Tasksentiment_rating_rnn_Urmi.ipynb",
   "provenance": []
  },
  "kernelspec": {
   "display_name": "Python 3 (ipykernel)",
   "language": "python",
   "name": "python3"
  },
  "language_info": {
   "codemirror_mode": {
    "name": "ipython",
    "version": 3
   },
   "file_extension": ".py",
   "mimetype": "text/x-python",
   "name": "python",
   "nbconvert_exporter": "python",
   "pygments_lexer": "ipython3",
   "version": "3.11.2"
  }
 },
 "nbformat": 4,
 "nbformat_minor": 1
}
